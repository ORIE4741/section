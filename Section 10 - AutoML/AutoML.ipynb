{
 "cells": [
  {
   "cell_type": "markdown",
   "id": "41f5ee50",
   "metadata": {},
   "source": [
    "# <font color='#B31B1B'> AutoML </font>\n",
    "\n",
    "In this section we'll dive into the world of automated machine learning! The high-level goal of autoML is to, believe it or not, automate the process of selecting machine learning models, hyperparemeters and even pre-processing pipelines. A large chunk of this notebook is adapted from the excellent examples from the OBOE repository."
   ]
  },
  {
   "cell_type": "code",
   "execution_count": 1,
   "id": "86a25f3f",
   "metadata": {},
   "outputs": [],
   "source": [
    "from oboe import AutoLearner, error  # This may take around 15 seconds at first run.\n",
    "\n",
    "import numpy as np\n",
    "import pandas as pd\n",
    "from sklearn.datasets import load_breast_cancer\n",
    "from sklearn.model_selection import train_test_split\n",
    "from sklearn.metrics import accuracy_score\n",
    "import time\n",
    "\n",
    "import warnings\n",
    "warnings.filterwarnings('ignore')"
   ]
  },
  {
   "cell_type": "markdown",
   "id": "ea22d4a7",
   "metadata": {},
   "source": [
    "### <font color='#B31B1B'> Wisconsin Breast Cancer Data </font>\n",
    "We are going to use the [Wisconsin Breast Cancer Dataset](https://archive.ics.uci.edu/ml/datasets/Breast+Cancer+Wisconsin+(Diagnostic)). Is a dataset that contains measurements taken on Breast Cancer cell images. The goal of the dataset is to predict whether a cancer is benign or malignant.\n",
    "\n",
    "The images look like this one:\n",
    "\n",
    "![title](media/breast_cancer.png)"
   ]
  },
  {
   "cell_type": "code",
   "execution_count": 2,
   "id": "931a730d",
   "metadata": {},
   "outputs": [],
   "source": [
    "data = load_breast_cancer()\n",
    "x = np.array(data['data'])\n",
    "y = np.array(data['target'])\n",
    "x_train, x_test, y_train, y_test = train_test_split(x, y, test_size=0.2)"
   ]
  },
  {
   "cell_type": "code",
   "execution_count": 3,
   "id": "6d8926ad",
   "metadata": {},
   "outputs": [
    {
     "name": "stdout",
     "output_type": "stream",
     "text": [
      ".. _breast_cancer_dataset:\n",
      "\n",
      "Breast cancer wisconsin (diagnostic) dataset\n",
      "--------------------------------------------\n",
      "\n",
      "**Data Set Characteristics:**\n",
      "\n",
      "    :Number of Instances: 569\n",
      "\n",
      "    :Number of Attributes: 30 numeric, predictive attributes and the class\n",
      "\n",
      "    :Attribute Information:\n",
      "        - radius (mean of distances from center to points on the perimeter)\n",
      "        - texture (standard deviation of gray-scale values)\n",
      "        - perimeter\n",
      "        - area\n",
      "        - smoothness (local variation in radius lengths)\n",
      "        - compactness (perimeter^2 / area - 1.0)\n",
      "        - concavity (severity of concave portions of the contour)\n",
      "        - concave points (number of concave portions of the contour)\n",
      "        - symmetry\n",
      "        - fractal dimension (\"coastline approximation\" - 1)\n",
      "\n",
      "        The mean, standard error, and \"worst\" or largest (mean of the three\n",
      "        worst/largest values) of these features were computed for each image,\n",
      "        resulting in 30 features.  For instance, field 0 is Mean Radius, field\n",
      "        10 is Radius SE, field 20 is Worst Radius.\n",
      "\n",
      "        - class:\n",
      "                - WDBC-Malignant\n",
      "                - WDBC-Benign\n",
      "\n",
      "    :Summary Statistics:\n",
      "\n",
      "    ===================================== ====== ======\n",
      "                                           Min    Max\n",
      "    ===================================== ====== ======\n",
      "    radius (mean):                        6.981  28.11\n",
      "    texture (mean):                       9.71   39.28\n",
      "    perimeter (mean):                     43.79  188.5\n",
      "    area (mean):                          143.5  2501.0\n",
      "    smoothness (mean):                    0.053  0.163\n",
      "    compactness (mean):                   0.019  0.345\n",
      "    concavity (mean):                     0.0    0.427\n",
      "    concave points (mean):                0.0    0.201\n",
      "    symmetry (mean):                      0.106  0.304\n",
      "    fractal dimension (mean):             0.05   0.097\n",
      "    radius (standard error):              0.112  2.873\n",
      "    texture (standard error):             0.36   4.885\n",
      "    perimeter (standard error):           0.757  21.98\n",
      "    area (standard error):                6.802  542.2\n",
      "    smoothness (standard error):          0.002  0.031\n",
      "    compactness (standard error):         0.002  0.135\n",
      "    concavity (standard error):           0.0    0.396\n",
      "    concave points (standard error):      0.0    0.053\n",
      "    symmetry (standard error):            0.008  0.079\n",
      "    fractal dimension (standard error):   0.001  0.03\n",
      "    radius (worst):                       7.93   36.04\n",
      "    texture (worst):                      12.02  49.54\n",
      "    perimeter (worst):                    50.41  251.2\n",
      "    area (worst):                         185.2  4254.0\n",
      "    smoothness (worst):                   0.071  0.223\n",
      "    compactness (worst):                  0.027  1.058\n",
      "    concavity (worst):                    0.0    1.252\n",
      "    concave points (worst):               0.0    0.291\n",
      "    symmetry (worst):                     0.156  0.664\n",
      "    fractal dimension (worst):            0.055  0.208\n",
      "    ===================================== ====== ======\n",
      "\n",
      "    :Missing Attribute Values: None\n",
      "\n",
      "    :Class Distribution: 212 - Malignant, 357 - Benign\n",
      "\n",
      "    :Creator:  Dr. William H. Wolberg, W. Nick Street, Olvi L. Mangasarian\n",
      "\n",
      "    :Donor: Nick Street\n",
      "\n",
      "    :Date: November, 1995\n",
      "\n",
      "This is a copy of UCI ML Breast Cancer Wisconsin (Diagnostic) datasets.\n",
      "https://goo.gl/U2Uwz2\n",
      "\n",
      "Features are computed from a digitized image of a fine needle\n",
      "aspirate (FNA) of a breast mass.  They describe\n",
      "characteristics of the cell nuclei present in the image.\n",
      "\n",
      "Separating plane described above was obtained using\n",
      "Multisurface Method-Tree (MSM-T) [K. P. Bennett, \"Decision Tree\n",
      "Construction Via Linear Programming.\" Proceedings of the 4th\n",
      "Midwest Artificial Intelligence and Cognitive Science Society,\n",
      "pp. 97-101, 1992], a classification method which uses linear\n",
      "programming to construct a decision tree.  Relevant features\n",
      "were selected using an exhaustive search in the space of 1-4\n",
      "features and 1-3 separating planes.\n",
      "\n",
      "The actual linear program used to obtain the separating plane\n",
      "in the 3-dimensional space is that described in:\n",
      "[K. P. Bennett and O. L. Mangasarian: \"Robust Linear\n",
      "Programming Discrimination of Two Linearly Inseparable Sets\",\n",
      "Optimization Methods and Software 1, 1992, 23-34].\n",
      "\n",
      "This database is also available through the UW CS ftp server:\n",
      "\n",
      "ftp ftp.cs.wisc.edu\n",
      "cd math-prog/cpo-dataset/machine-learn/WDBC/\n",
      "\n",
      ".. topic:: References\n",
      "\n",
      "   - W.N. Street, W.H. Wolberg and O.L. Mangasarian. Nuclear feature extraction \n",
      "     for breast tumor diagnosis. IS&T/SPIE 1993 International Symposium on \n",
      "     Electronic Imaging: Science and Technology, volume 1905, pages 861-870,\n",
      "     San Jose, CA, 1993.\n",
      "   - O.L. Mangasarian, W.N. Street and W.H. Wolberg. Breast cancer diagnosis and \n",
      "     prognosis via linear programming. Operations Research, 43(4), pages 570-577, \n",
      "     July-August 1995.\n",
      "   - W.H. Wolberg, W.N. Street, and O.L. Mangasarian. Machine learning techniques\n",
      "     to diagnose breast cancer from fine-needle aspirates. Cancer Letters 77 (1994) \n",
      "     163-171.\n"
     ]
    }
   ],
   "source": [
    "print(data['DESCR'])"
   ]
  },
  {
   "cell_type": "markdown",
   "id": "2d4110a0",
   "metadata": {},
   "source": [
    "### <font color='#B31B1B'> Baseline Approach </font>\n",
    "We've learned some fancy machine learning approaches, as a baseline let's try to fit a decision tree to predict whether each tumor is benign or malignant. We'll start by just using the defaults for scikit-learn's decision tree implementation."
   ]
  },
  {
   "cell_type": "code",
   "execution_count": 4,
   "id": "032e2e50",
   "metadata": {},
   "outputs": [
    {
     "data": {
      "text/plain": [
       "RandomForestClassifier()"
      ]
     },
     "execution_count": 4,
     "metadata": {},
     "output_type": "execute_result"
    }
   ],
   "source": [
    "from sklearn.ensemble import RandomForestClassifier\n",
    "\n",
    "clf = RandomForestClassifier()\n",
    "clf.fit(x_train, y_train)"
   ]
  },
  {
   "cell_type": "code",
   "execution_count": 5,
   "id": "0726b5d1",
   "metadata": {
    "scrolled": true
   },
   "outputs": [
    {
     "data": {
      "text/plain": [
       "0.956140350877193"
      ]
     },
     "execution_count": 5,
     "metadata": {},
     "output_type": "execute_result"
    }
   ],
   "source": [
    "#Compute our test set accuracy\n",
    "(clf.predict(x_test) == y_test).mean()"
   ]
  },
  {
   "cell_type": "markdown",
   "id": "7d11f2b2",
   "metadata": {},
   "source": [
    "Let's see if we can beat this baseline with some tools from AutoML."
   ]
  },
  {
   "cell_type": "markdown",
   "id": "ce3c535d",
   "metadata": {},
   "source": [
    "### <font color='#B31B1B'> Automated Hyperparameter Tuning </font>\n",
    "The simplest form of automated machine learning is to try to automatically pick model hyperparameters. In general, there are two popular approaches: grid search, and randomized grid search. Check out this <a href='https://www.jmlr.org/papers/volume13/bergstra12a/bergstra12a.pdf'> paper </a> for an analysis of the differences. Luckily scikit-learn has implementations of both!\n",
    "\n",
    "![title](media/grid_search.png)"
   ]
  },
  {
   "cell_type": "code",
   "execution_count": 6,
   "id": "ceb390fb",
   "metadata": {},
   "outputs": [],
   "source": [
    "from sklearn.model_selection import GridSearchCV, RandomizedSearchCV"
   ]
  },
  {
   "cell_type": "markdown",
   "id": "99010471",
   "metadata": {},
   "source": [
    "Let's check out what parameters we can tinker with in our random forest model."
   ]
  },
  {
   "cell_type": "code",
   "execution_count": 7,
   "id": "0e096109",
   "metadata": {},
   "outputs": [
    {
     "data": {
      "text/plain": [
       "{'bootstrap': True,\n",
       " 'ccp_alpha': 0.0,\n",
       " 'class_weight': None,\n",
       " 'criterion': 'gini',\n",
       " 'max_depth': None,\n",
       " 'max_features': 'auto',\n",
       " 'max_leaf_nodes': None,\n",
       " 'max_samples': None,\n",
       " 'min_impurity_decrease': 0.0,\n",
       " 'min_samples_leaf': 1,\n",
       " 'min_samples_split': 2,\n",
       " 'min_weight_fraction_leaf': 0.0,\n",
       " 'n_estimators': 100,\n",
       " 'n_jobs': None,\n",
       " 'oob_score': False,\n",
       " 'random_state': None,\n",
       " 'verbose': 0,\n",
       " 'warm_start': False}"
      ]
     },
     "execution_count": 7,
     "metadata": {},
     "output_type": "execute_result"
    }
   ],
   "source": [
    "clf.get_params()"
   ]
  },
  {
   "cell_type": "markdown",
   "id": "16b8e736",
   "metadata": {},
   "source": [
    "We are going to define the hyperparameter grid search space. For grid search we need to define every value we want to test."
   ]
  },
  {
   "cell_type": "code",
   "execution_count": 8,
   "id": "8e9c3241",
   "metadata": {},
   "outputs": [],
   "source": [
    "# The main paramters people tune for logistic regression are: penalty, C and intercept\n",
    "search_parameters_space = {\n",
    "    \"n_estimators\": [1, 10, 100 , 300],\n",
    "    \"bootstrap\": [True, False], # range from 0.1 - 2, with 10 values in between \n",
    "    \"ccp_alpha\": [0.0, 0.01, 0.1, 1, 10], # fit intercept T or F\n",
    "}"
   ]
  },
  {
   "cell_type": "markdown",
   "id": "f5f123be",
   "metadata": {},
   "source": [
    "We create the grid search by passing the estimator, the grid search parameter dictionary, and the scoring function we want to optimize."
   ]
  },
  {
   "cell_type": "code",
   "execution_count": 9,
   "id": "2c09e186",
   "metadata": {},
   "outputs": [],
   "source": [
    "grid = GridSearchCV(estimator=clf, \n",
    "                    param_grid=search_parameters_space,\n",
    "                    scoring=\"accuracy\",\n",
    "                    n_jobs=-1)"
   ]
  },
  {
   "cell_type": "code",
   "execution_count": 10,
   "id": "730d57b1",
   "metadata": {},
   "outputs": [
    {
     "data": {
      "text/plain": [
       "GridSearchCV(estimator=RandomForestClassifier(), n_jobs=-1,\n",
       "             param_grid={'bootstrap': [True, False],\n",
       "                         'ccp_alpha': [0.0, 0.01, 0.1, 1, 10],\n",
       "                         'n_estimators': [1, 10, 100, 300]},\n",
       "             scoring='accuracy')"
      ]
     },
     "execution_count": 10,
     "metadata": {},
     "output_type": "execute_result"
    }
   ],
   "source": [
    "grid"
   ]
  },
  {
   "cell_type": "markdown",
   "id": "f2b647c3",
   "metadata": {},
   "source": [
    "`GridSearchCV` works as an estimator, it has a `fit` method to perform the search.\n",
    "\n",
    "**Note**: If you see the next step takes too long, it probably means your laptop is not powerful enough to run this search. Try to restart your notebook (you might have to kill it and restart) and load the data with a smaller sample (try 5000 samples for example, if that doesnt work try 2000)."
   ]
  },
  {
   "cell_type": "code",
   "execution_count": 11,
   "id": "5f4683d9",
   "metadata": {},
   "outputs": [
    {
     "name": "stdout",
     "output_type": "stream",
     "text": [
      "CPU times: user 773 ms, sys: 105 ms, total: 878 ms\n",
      "Wall time: 8.75 s\n"
     ]
    },
    {
     "data": {
      "text/plain": [
       "GridSearchCV(estimator=RandomForestClassifier(), n_jobs=-1,\n",
       "             param_grid={'bootstrap': [True, False],\n",
       "                         'ccp_alpha': [0.0, 0.01, 0.1, 1, 10],\n",
       "                         'n_estimators': [1, 10, 100, 300]},\n",
       "             scoring='accuracy')"
      ]
     },
     "execution_count": 11,
     "metadata": {},
     "output_type": "execute_result"
    }
   ],
   "source": [
    "%%time\n",
    "grid.fit(x_train, y_train)"
   ]
  },
  {
   "cell_type": "markdown",
   "id": "35c5ae97",
   "metadata": {},
   "source": [
    "Now we can see the performance of the best hyperparameter combination found by the grid search."
   ]
  },
  {
   "cell_type": "code",
   "execution_count": 12,
   "id": "b1c3a4b4",
   "metadata": {},
   "outputs": [
    {
     "name": "stdout",
     "output_type": "stream",
     "text": [
      "0.9692307692307693\n"
     ]
    }
   ],
   "source": [
    "print(grid.best_score_)"
   ]
  },
  {
   "cell_type": "markdown",
   "id": "c87f9fcb",
   "metadata": {},
   "source": [
    "We can see the best params:"
   ]
  },
  {
   "cell_type": "code",
   "execution_count": 13,
   "id": "04ab393c",
   "metadata": {},
   "outputs": [
    {
     "data": {
      "text/plain": [
       "{'bootstrap': False, 'ccp_alpha': 0.0, 'n_estimators': 300}"
      ]
     },
     "execution_count": 13,
     "metadata": {},
     "output_type": "execute_result"
    }
   ],
   "source": [
    "grid.best_params_"
   ]
  },
  {
   "cell_type": "markdown",
   "id": "50bc0d87",
   "metadata": {},
   "source": [
    "And we can use the best trained estimator:"
   ]
  },
  {
   "cell_type": "code",
   "execution_count": 14,
   "id": "01138d69",
   "metadata": {},
   "outputs": [
    {
     "data": {
      "text/plain": [
       "RandomForestClassifier(bootstrap=False, n_estimators=300)"
      ]
     },
     "execution_count": 14,
     "metadata": {},
     "output_type": "execute_result"
    }
   ],
   "source": [
    "grid.best_estimator_ # this gets the best model all packaged for us."
   ]
  },
  {
   "cell_type": "markdown",
   "id": "f65b8789",
   "metadata": {},
   "source": [
    "After fitting, Gridsearch returns the results for each one of the combinations as the attribute `cv_results_`\n",
    "Which we can see as a dataframe for convenience"
   ]
  },
  {
   "cell_type": "code",
   "execution_count": 15,
   "id": "6b583862",
   "metadata": {},
   "outputs": [
    {
     "data": {
      "text/html": [
       "<div>\n",
       "<style scoped>\n",
       "    .dataframe tbody tr th:only-of-type {\n",
       "        vertical-align: middle;\n",
       "    }\n",
       "\n",
       "    .dataframe tbody tr th {\n",
       "        vertical-align: top;\n",
       "    }\n",
       "\n",
       "    .dataframe thead th {\n",
       "        text-align: right;\n",
       "    }\n",
       "</style>\n",
       "<table border=\"1\" class=\"dataframe\">\n",
       "  <thead>\n",
       "    <tr style=\"text-align: right;\">\n",
       "      <th></th>\n",
       "      <th>mean_fit_time</th>\n",
       "      <th>std_fit_time</th>\n",
       "      <th>mean_score_time</th>\n",
       "      <th>std_score_time</th>\n",
       "      <th>param_bootstrap</th>\n",
       "      <th>param_ccp_alpha</th>\n",
       "      <th>param_n_estimators</th>\n",
       "      <th>params</th>\n",
       "      <th>split0_test_score</th>\n",
       "      <th>split1_test_score</th>\n",
       "      <th>split2_test_score</th>\n",
       "      <th>split3_test_score</th>\n",
       "      <th>split4_test_score</th>\n",
       "      <th>mean_test_score</th>\n",
       "      <th>std_test_score</th>\n",
       "      <th>rank_test_score</th>\n",
       "    </tr>\n",
       "  </thead>\n",
       "  <tbody>\n",
       "    <tr>\n",
       "      <th>23</th>\n",
       "      <td>0.705604</td>\n",
       "      <td>0.011363</td>\n",
       "      <td>0.057265</td>\n",
       "      <td>0.003251</td>\n",
       "      <td>False</td>\n",
       "      <td>0.0</td>\n",
       "      <td>300</td>\n",
       "      <td>{'bootstrap': False, 'ccp_alpha': 0.0, 'n_esti...</td>\n",
       "      <td>0.989011</td>\n",
       "      <td>0.967033</td>\n",
       "      <td>0.956044</td>\n",
       "      <td>0.967033</td>\n",
       "      <td>0.967033</td>\n",
       "      <td>0.969231</td>\n",
       "      <td>0.010767</td>\n",
       "      <td>1</td>\n",
       "    </tr>\n",
       "    <tr>\n",
       "      <th>1</th>\n",
       "      <td>0.024883</td>\n",
       "      <td>0.000886</td>\n",
       "      <td>0.002305</td>\n",
       "      <td>0.000184</td>\n",
       "      <td>True</td>\n",
       "      <td>0.0</td>\n",
       "      <td>10</td>\n",
       "      <td>{'bootstrap': True, 'ccp_alpha': 0.0, 'n_estim...</td>\n",
       "      <td>0.967033</td>\n",
       "      <td>0.978022</td>\n",
       "      <td>0.956044</td>\n",
       "      <td>0.978022</td>\n",
       "      <td>0.956044</td>\n",
       "      <td>0.967033</td>\n",
       "      <td>0.009829</td>\n",
       "      <td>2</td>\n",
       "    </tr>\n",
       "    <tr>\n",
       "      <th>22</th>\n",
       "      <td>0.218859</td>\n",
       "      <td>0.006316</td>\n",
       "      <td>0.015330</td>\n",
       "      <td>0.001111</td>\n",
       "      <td>False</td>\n",
       "      <td>0.0</td>\n",
       "      <td>100</td>\n",
       "      <td>{'bootstrap': False, 'ccp_alpha': 0.0, 'n_esti...</td>\n",
       "      <td>0.967033</td>\n",
       "      <td>0.967033</td>\n",
       "      <td>0.956044</td>\n",
       "      <td>0.967033</td>\n",
       "      <td>0.967033</td>\n",
       "      <td>0.964835</td>\n",
       "      <td>0.004396</td>\n",
       "      <td>3</td>\n",
       "    </tr>\n",
       "    <tr>\n",
       "      <th>2</th>\n",
       "      <td>0.218427</td>\n",
       "      <td>0.001245</td>\n",
       "      <td>0.015191</td>\n",
       "      <td>0.000950</td>\n",
       "      <td>True</td>\n",
       "      <td>0.0</td>\n",
       "      <td>100</td>\n",
       "      <td>{'bootstrap': True, 'ccp_alpha': 0.0, 'n_estim...</td>\n",
       "      <td>0.978022</td>\n",
       "      <td>0.945055</td>\n",
       "      <td>0.956044</td>\n",
       "      <td>0.967033</td>\n",
       "      <td>0.967033</td>\n",
       "      <td>0.962637</td>\n",
       "      <td>0.011207</td>\n",
       "      <td>4</td>\n",
       "    </tr>\n",
       "    <tr>\n",
       "      <th>3</th>\n",
       "      <td>0.665528</td>\n",
       "      <td>0.011700</td>\n",
       "      <td>0.047676</td>\n",
       "      <td>0.006044</td>\n",
       "      <td>True</td>\n",
       "      <td>0.0</td>\n",
       "      <td>300</td>\n",
       "      <td>{'bootstrap': True, 'ccp_alpha': 0.0, 'n_estim...</td>\n",
       "      <td>0.978022</td>\n",
       "      <td>0.945055</td>\n",
       "      <td>0.956044</td>\n",
       "      <td>0.967033</td>\n",
       "      <td>0.967033</td>\n",
       "      <td>0.962637</td>\n",
       "      <td>0.011207</td>\n",
       "      <td>4</td>\n",
       "    </tr>\n",
       "  </tbody>\n",
       "</table>\n",
       "</div>"
      ],
      "text/plain": [
       "    mean_fit_time  std_fit_time  mean_score_time  std_score_time  \\\n",
       "23       0.705604      0.011363         0.057265        0.003251   \n",
       "1        0.024883      0.000886         0.002305        0.000184   \n",
       "22       0.218859      0.006316         0.015330        0.001111   \n",
       "2        0.218427      0.001245         0.015191        0.000950   \n",
       "3        0.665528      0.011700         0.047676        0.006044   \n",
       "\n",
       "   param_bootstrap param_ccp_alpha param_n_estimators  \\\n",
       "23           False             0.0                300   \n",
       "1             True             0.0                 10   \n",
       "22           False             0.0                100   \n",
       "2             True             0.0                100   \n",
       "3             True             0.0                300   \n",
       "\n",
       "                                               params  split0_test_score  \\\n",
       "23  {'bootstrap': False, 'ccp_alpha': 0.0, 'n_esti...           0.989011   \n",
       "1   {'bootstrap': True, 'ccp_alpha': 0.0, 'n_estim...           0.967033   \n",
       "22  {'bootstrap': False, 'ccp_alpha': 0.0, 'n_esti...           0.967033   \n",
       "2   {'bootstrap': True, 'ccp_alpha': 0.0, 'n_estim...           0.978022   \n",
       "3   {'bootstrap': True, 'ccp_alpha': 0.0, 'n_estim...           0.978022   \n",
       "\n",
       "    split1_test_score  split2_test_score  split3_test_score  \\\n",
       "23           0.967033           0.956044           0.967033   \n",
       "1            0.978022           0.956044           0.978022   \n",
       "22           0.967033           0.956044           0.967033   \n",
       "2            0.945055           0.956044           0.967033   \n",
       "3            0.945055           0.956044           0.967033   \n",
       "\n",
       "    split4_test_score  mean_test_score  std_test_score  rank_test_score  \n",
       "23           0.967033         0.969231        0.010767                1  \n",
       "1            0.956044         0.967033        0.009829                2  \n",
       "22           0.967033         0.964835        0.004396                3  \n",
       "2            0.967033         0.962637        0.011207                4  \n",
       "3            0.967033         0.962637        0.011207                4  "
      ]
     },
     "execution_count": 15,
     "metadata": {},
     "output_type": "execute_result"
    }
   ],
   "source": [
    "pd.DataFrame(grid.cv_results_).sort_values(by=\"rank_test_score\").head() \n",
    "# so we can see the test score for every possible option of our grid search"
   ]
  },
  {
   "cell_type": "markdown",
   "id": "d40d9b68",
   "metadata": {},
   "source": [
    "For randomized grid search we have to define a distribution of parameters to test instead of just every possible values. "
   ]
  },
  {
   "cell_type": "code",
   "execution_count": 16,
   "id": "710badd9",
   "metadata": {},
   "outputs": [],
   "source": [
    "from scipy.stats import randint as sp_randint\n",
    "from scipy.stats import uniform \n",
    "\n",
    "param_dist_random = {\n",
    "    \"bootstrap\": [True, False],\n",
    "    \"ccp_alpha\": uniform(loc=0.1, scale=2),\n",
    "    \"n_estimators\": sp_randint(1, 1000),\n",
    "}"
   ]
  },
  {
   "cell_type": "code",
   "execution_count": 17,
   "id": "f9506568",
   "metadata": {},
   "outputs": [],
   "source": [
    "random_search = RandomizedSearchCV(\n",
    "    estimator=clf, \n",
    "    param_distributions=param_dist_random,\n",
    "   scoring=\"accuracy\", n_jobs=-1, \n",
    "    n_iter=50)"
   ]
  },
  {
   "cell_type": "code",
   "execution_count": 18,
   "id": "1c50ee0b",
   "metadata": {},
   "outputs": [
    {
     "name": "stdout",
     "output_type": "stream",
     "text": [
      "CPU times: user 1.54 s, sys: 58.6 ms, total: 1.6 s\n",
      "Wall time: 51.4 s\n"
     ]
    },
    {
     "data": {
      "text/plain": [
       "RandomizedSearchCV(estimator=RandomForestClassifier(), n_iter=50, n_jobs=-1,\n",
       "                   param_distributions={'bootstrap': [True, False],\n",
       "                                        'ccp_alpha': <scipy.stats._distn_infrastructure.rv_frozen object at 0x163d8a130>,\n",
       "                                        'n_estimators': <scipy.stats._distn_infrastructure.rv_frozen object at 0x163da16a0>},\n",
       "                   scoring='accuracy')"
      ]
     },
     "execution_count": 18,
     "metadata": {},
     "output_type": "execute_result"
    }
   ],
   "source": [
    "%%time\n",
    "random_search.fit(x_train, y_train)"
   ]
  },
  {
   "cell_type": "markdown",
   "id": "4b26fe0f",
   "metadata": {},
   "source": [
    "However this is a cautionary tale that you have to pick your distributions well..."
   ]
  },
  {
   "cell_type": "code",
   "execution_count": 19,
   "id": "054d8610",
   "metadata": {
    "scrolled": true
   },
   "outputs": [
    {
     "data": {
      "text/plain": [
       "0.9385964912280702"
      ]
     },
     "execution_count": 19,
     "metadata": {},
     "output_type": "execute_result"
    }
   ],
   "source": [
    "(random_search.predict(x_test) == y_test).mean()"
   ]
  },
  {
   "cell_type": "code",
   "execution_count": 20,
   "id": "b6e81252",
   "metadata": {},
   "outputs": [
    {
     "data": {
      "text/plain": [
       "RandomForestClassifier(bootstrap=False, ccp_alpha=0.27856553766808234,\n",
       "                       n_estimators=710)"
      ]
     },
     "execution_count": 20,
     "metadata": {},
     "output_type": "execute_result"
    }
   ],
   "source": [
    "random_search.best_estimator_"
   ]
  },
  {
   "cell_type": "markdown",
   "id": "3823443a",
   "metadata": {},
   "source": [
    "## <font color='#B31B1B'> OBOE </font>\n",
    "Hyperparameter tuning can only get you so far, and unfortunately manually testing every model with every hyperparameter can be time consuming and a drain on computational resources. Instead, we'll turn to OBOE an AutoML tool based on generalized low rank models. OBOE will help pick both hyperparameters AND the model itself. For more information check out the paper <a href='https://arxiv.org/abs/1808.03233'> here</a>. You can install OBOE using pip (check out the <a href= 'https://github.com/udellgroup/oboe'> github page </a> for more details).\n",
    "\n",
    "![title](media/oboe.png)"
   ]
  },
  {
   "cell_type": "code",
   "execution_count": 21,
   "id": "e28c8e18",
   "metadata": {},
   "outputs": [],
   "source": [
    "from oboe import AutoLearner, error  # This may take around 15 seconds at first run."
   ]
  },
  {
   "cell_type": "code",
   "execution_count": 22,
   "id": "af42f0a9",
   "metadata": {},
   "outputs": [
    {
     "name": "stderr",
     "output_type": "stream",
     "text": [
      "/Users/connorlawless/opt/anaconda3/envs/oboe/lib/python3.9/site-packages/sklearn/svm/_base.py:1206: ConvergenceWarning: Liblinear failed to converge, increase the number of iterations.\n",
      "  warnings.warn(\n",
      "/Users/connorlawless/opt/anaconda3/envs/oboe/lib/python3.9/site-packages/sklearn/svm/_base.py:1206: ConvergenceWarning: Liblinear failed to converge, increase the number of iterations.\n",
      "  warnings.warn(\n"
     ]
    },
    {
     "data": {
      "text/plain": [
       "{'ranks': [8, 9, 9],\n",
       " 'runtime_limits': [1, 2, 4],\n",
       " 'validation_loss': [0.5,\n",
       "  0.020000000000000018,\n",
       "  0.060000000000000026,\n",
       "  0.05136363636363636],\n",
       " 'filled_new_row': [array([[ 4.84731972e-01,  5.09012629e-01, -3.58292541e-02,\n",
       "          -2.19050322e-01, -2.47586852e-01,  4.96896229e-01,\n",
       "           4.97452990e-01, -1.04984631e-01, -2.86319762e-01,\n",
       "          -3.10185933e-01,  6.49313311e-02,  6.83359657e-02,\n",
       "           7.98323521e-02,  7.37782016e-02,  7.99442820e-02,\n",
       "           1.17227625e-01,  9.22195189e-02,  1.05909439e-01,\n",
       "           4.92541813e-01,  5.07353721e-01,  6.53291678e-02,\n",
       "           6.50020833e-02,  6.49313311e-02,  6.49313311e-02,\n",
       "          -2.25282176e-02, -6.27848089e-04, -2.14766790e-02,\n",
       "          -3.30322039e-03, -2.64395814e-02, -8.01301427e-04,\n",
       "          -4.36383859e-02, -7.25822025e-03, -4.82271852e-02,\n",
       "          -1.11749801e-02, -8.59159526e-02, -3.59560815e-02,\n",
       "          -1.04333248e-01, -5.36676983e-02, -3.80741335e-02,\n",
       "           7.91809133e-03,  2.86574878e-01,  2.95820912e-01,\n",
       "           3.05345759e-01,  3.04100552e-01, -9.45641216e-02,\n",
       "          -5.92410059e-02, -4.61898546e-02, -2.07265127e-02,\n",
       "          -2.37375356e-02,  9.71188504e-04, -2.25282176e-02,\n",
       "          -6.27848089e-04, -2.25282176e-02, -6.27848089e-04,\n",
       "          -4.21898154e-01, -2.52651004e-01, -4.67014019e-01,\n",
       "          -3.55027808e-01, -5.94656195e-02, -1.88774449e-02,\n",
       "           1.96093890e-03,  8.53452126e-03, -9.53762573e-03,\n",
       "           3.60842828e-02,  2.68933340e-02,  3.60630945e-02,\n",
       "           1.83478076e-02,  5.53658427e-02,  7.43268020e-03,\n",
       "           3.15413947e-02,  2.64406724e-02,  5.76105483e-02,\n",
       "           1.21885720e-02,  3.70283075e-02,  5.11719776e-02,\n",
       "           1.04766975e-01,  2.91466095e-02,  6.64108717e-02,\n",
       "           7.82351188e-02,  1.65015814e-01,  3.93484251e-02,\n",
       "           1.46266444e-01,  6.91024525e-02,  9.45245705e-02,\n",
       "           1.04608817e-01,  1.27692688e-01,  1.40757846e-01,\n",
       "           1.20697542e-01,  1.44244307e-01,  1.30093263e-01,\n",
       "           1.59608139e-01,  1.35453475e-01,  1.57184314e-01,\n",
       "           1.32336628e-01,  1.61006522e-01,  1.39867564e-01,\n",
       "           1.67974991e-01,  1.28206774e-01,  1.53361772e-01,\n",
       "           5.10265705e-02,  5.74272537e-02,  2.66281736e-02,\n",
       "           4.52644755e-02,  5.99587564e-02,  5.98091248e-02,\n",
       "           4.32204994e-02,  5.06329293e-02,  6.02691523e-02,\n",
       "           6.16223397e-02,  5.44238331e-02,  5.57683171e-02,\n",
       "           5.88306421e-02,  6.30213891e-02,  5.89404934e-02,\n",
       "           5.77133209e-02,  5.82802264e-02,  6.45748884e-02,\n",
       "           5.94964228e-02,  6.09765727e-02,  6.00539695e-02,\n",
       "           6.76208041e-02,  6.16868514e-02,  6.25681118e-02,\n",
       "           5.96093345e-02,  7.25135598e-02,  6.57605324e-02,\n",
       "           6.27596392e-02,  5.91236217e-02,  7.12009230e-02,\n",
       "           6.52265295e-02,  6.48471958e-02, -6.73275187e-02,\n",
       "          -6.74256803e-02, -7.09686232e-02, -7.13464799e-02,\n",
       "          -5.27019812e-02, -5.30079313e-02, -4.76378411e-02,\n",
       "          -4.86589959e-02, -5.54690451e-02, -5.51458588e-02,\n",
       "          -5.63253286e-02, -5.38554334e-02,  1.38336382e-01,\n",
       "           3.23403362e-03,  2.07347151e-02, -3.17456252e-04,\n",
       "           2.11824740e-02,  3.37834960e-03,  1.71054701e-02,\n",
       "          -1.76178402e-03,  2.33350926e-02,  3.68410869e-03,\n",
       "           4.32641990e-02, -2.74786192e-02,  6.98170960e-03,\n",
       "          -6.32098706e-02, -2.91783732e-02,  2.59512950e-01,\n",
       "           2.81887640e-01,  4.01411259e-01,  3.93346908e-01,\n",
       "           3.65168532e-01,  3.60150188e-01, -3.60755651e-02,\n",
       "           1.44386413e-02, -1.84748288e-02,  7.77597947e-04,\n",
       "           4.78066036e-04,  1.97819603e-02,  3.23403362e-03,\n",
       "           2.07347151e-02,  3.23403362e-03,  2.07347151e-02,\n",
       "           2.60332189e-01,  2.60332189e-01,  5.26414971e-01,\n",
       "          -6.30240255e-02,  2.43774623e-01,  2.43774623e-01,\n",
       "           5.84032242e-01, -6.43844452e-02,  2.05145778e-01,\n",
       "           2.05145778e-01,  5.96134694e-01, -6.81688657e-02,\n",
       "           1.68408062e-01,  1.68408062e-01,  5.87675078e-01,\n",
       "          -6.77481436e-02,  1.26060680e-01,  1.26060680e-01,\n",
       "           5.68983241e-01, -6.86833131e-02,  5.38520388e-02,\n",
       "           5.38520388e-02,  5.13178147e-01, -6.39906675e-02,\n",
       "           2.15892985e-02,  2.15892985e-02,  4.61540626e-01,\n",
       "          -6.10998083e-02,  7.62932023e-03,  7.62932023e-03,\n",
       "           4.32535936e-01, -6.40057649e-02,  4.09650526e-03,\n",
       "           4.09650526e-03,  4.09881442e-01, -6.44966121e-02,\n",
       "           7.04570820e-02,  7.43054205e-02,  7.83165415e-02,\n",
       "           8.11722927e-02,  8.20753653e-02,  8.44454039e-02,\n",
       "           8.90148764e-02,  8.88972337e-02,  8.33205990e-02]]),\n",
       "  array([[ 4.84731972e-01,  5.09012629e-01, -3.58292541e-02,\n",
       "          -2.19050322e-01, -2.47586852e-01,  4.96896229e-01,\n",
       "           4.97452990e-01, -1.04984631e-01, -2.86319762e-01,\n",
       "          -3.10185933e-01,  6.49313311e-02,  6.83359657e-02,\n",
       "           7.98323521e-02,  7.37782016e-02,  7.99442820e-02,\n",
       "           1.17227625e-01,  9.22195189e-02,  1.05909439e-01,\n",
       "           4.92541813e-01,  5.07353721e-01,  6.53291678e-02,\n",
       "           6.50020833e-02,  6.49313311e-02,  6.49313311e-02,\n",
       "          -2.25282176e-02, -6.27848089e-04, -2.14766790e-02,\n",
       "          -3.30322039e-03, -2.64395814e-02, -8.01301427e-04,\n",
       "          -4.36383859e-02, -7.25822025e-03, -4.82271852e-02,\n",
       "          -1.11749801e-02, -8.59159526e-02, -3.59560815e-02,\n",
       "           5.53835327e-02, -5.36676983e-02, -3.80741335e-02,\n",
       "           7.91809133e-03,  2.86574878e-01,  2.95820912e-01,\n",
       "           3.05345759e-01,  3.04100552e-01,  5.39760732e-02,\n",
       "          -5.92410059e-02, -4.61898546e-02, -2.07265127e-02,\n",
       "          -2.37375356e-02,  9.71188504e-04, -2.25282176e-02,\n",
       "          -6.27848089e-04, -2.25282176e-02, -6.27848089e-04,\n",
       "           5.00000000e-01,  5.00000000e-01, -4.67014019e-01,\n",
       "          -3.55027808e-01, -5.94656195e-02, -1.88774449e-02,\n",
       "           1.96093890e-03,  8.53452126e-03, -9.53762573e-03,\n",
       "           3.60842828e-02,  2.68933340e-02,  3.60630945e-02,\n",
       "           1.83478076e-02,  5.53658427e-02,  7.43268020e-03,\n",
       "           3.15413947e-02,  2.64406724e-02,  5.76105483e-02,\n",
       "           1.21885720e-02,  3.70283075e-02,  5.11719776e-02,\n",
       "           1.04766975e-01,  2.91466095e-02,  6.64108717e-02,\n",
       "           7.82351188e-02,  1.65015814e-01,  3.93484251e-02,\n",
       "           1.46266444e-01,  6.91024525e-02,  9.45245705e-02,\n",
       "           1.04608817e-01,  1.27692688e-01,  1.40757846e-01,\n",
       "           1.20697542e-01,  1.44244307e-01,  1.30093263e-01,\n",
       "           1.59608139e-01,  1.35453475e-01,  1.57184314e-01,\n",
       "           1.32336628e-01,  1.61006522e-01,  1.39867564e-01,\n",
       "           1.67974991e-01,  1.28206774e-01,  1.53361772e-01,\n",
       "           5.10265705e-02,  5.74272537e-02,  2.66281736e-02,\n",
       "           4.52644755e-02,  5.99587564e-02,  5.98091248e-02,\n",
       "           4.32204994e-02,  5.06329293e-02,  6.02691523e-02,\n",
       "           6.16223397e-02,  5.44238331e-02,  5.57683171e-02,\n",
       "           5.88306421e-02,  6.30213891e-02,  5.89404934e-02,\n",
       "           5.77133209e-02,  5.82802264e-02,  6.45748884e-02,\n",
       "           5.94964228e-02,  6.09765727e-02,  6.00539695e-02,\n",
       "           6.76208041e-02,  6.16868514e-02,  6.25681118e-02,\n",
       "           5.96093345e-02,  7.25135598e-02,  6.57605324e-02,\n",
       "           6.27596392e-02,  5.91236217e-02,  7.12009230e-02,\n",
       "           6.52265295e-02,  6.48471958e-02, -6.73275187e-02,\n",
       "          -6.74256803e-02, -7.09686232e-02, -7.13464799e-02,\n",
       "          -5.27019812e-02, -5.30079313e-02, -4.76378411e-02,\n",
       "          -4.86589959e-02, -5.54690451e-02, -5.51458588e-02,\n",
       "          -5.63253286e-02, -5.38554334e-02,  1.38336382e-01,\n",
       "           3.23403362e-03,  2.07347151e-02, -3.17456252e-04,\n",
       "           2.11824740e-02,  3.37834960e-03,  1.71054701e-02,\n",
       "          -1.76178402e-03,  2.33350926e-02,  3.68410869e-03,\n",
       "           4.32641990e-02, -2.74786192e-02,  6.98170960e-03,\n",
       "          -6.32098706e-02, -2.91783732e-02,  2.59512950e-01,\n",
       "           2.81887640e-01,  4.01411259e-01,  3.93346908e-01,\n",
       "           3.65168532e-01,  3.60150188e-01, -3.60755651e-02,\n",
       "           1.44386413e-02, -1.84748288e-02,  7.77597947e-04,\n",
       "           4.78066036e-04,  1.97819603e-02,  3.23403362e-03,\n",
       "           2.07347151e-02,  3.23403362e-03,  2.07347151e-02,\n",
       "           2.60332189e-01,  2.60332189e-01,  5.26414971e-01,\n",
       "          -6.30240255e-02,  2.43774623e-01,  2.43774623e-01,\n",
       "           5.84032242e-01, -6.43844452e-02,  2.05145778e-01,\n",
       "           2.05145778e-01,  5.96134694e-01, -6.81688657e-02,\n",
       "           1.68408062e-01,  1.68408062e-01,  5.87675078e-01,\n",
       "          -6.77481436e-02,  1.26060680e-01,  1.26060680e-01,\n",
       "           5.68983241e-01, -6.86833131e-02,  5.38520388e-02,\n",
       "           5.38520388e-02,  5.13178147e-01, -6.39906675e-02,\n",
       "           2.15892985e-02,  2.15892985e-02,  4.61540626e-01,\n",
       "          -6.10998083e-02,  7.62932023e-03,  7.62932023e-03,\n",
       "           4.32535936e-01, -6.40057649e-02,  4.09650526e-03,\n",
       "           4.09650526e-03,  4.09881442e-01, -6.44966121e-02,\n",
       "           7.04570820e-02,  7.43054205e-02,  7.83165415e-02,\n",
       "           8.11722927e-02,  8.20753653e-02,  8.44454039e-02,\n",
       "           8.90148764e-02,  8.88972337e-02,  8.33205990e-02]]),\n",
       "  array([[0.07877045, 0.08218286, 0.06718982, 0.15502963, 0.19374395,\n",
       "          0.08008139, 0.08074915, 0.05802422, 0.13676593, 0.18008101,\n",
       "          0.07610111, 0.0760192 , 0.07463274, 0.0727978 , 0.06809539,\n",
       "          0.06920065, 0.07768223, 0.11653909, 0.45271537, 0.54209984,\n",
       "          0.07534584, 0.07629234, 0.07610111, 0.07610111, 0.07394396,\n",
       "          0.07071568, 0.06984322, 0.06915631, 0.06264837, 0.06318015,\n",
       "          0.05836993, 0.05858492, 0.0550521 , 0.05284106, 0.05771997,\n",
       "          0.0559795 , 0.06568033, 0.0660127 , 0.16924076, 0.16914327,\n",
       "          0.49179886, 0.49195644, 0.58234988, 0.58481575, 0.08698097,\n",
       "          0.08283256, 0.06484569, 0.06447636, 0.07577384, 0.07140279,\n",
       "          0.07394396, 0.07071568, 0.07394396, 0.07071568, 0.49048161,\n",
       "          0.49040291, 0.48293902, 0.47947257, 0.07540362, 0.11932461,\n",
       "          0.07571178, 0.06781786, 0.06005402, 0.05650137, 0.07498287,\n",
       "          0.05204953, 0.05757285, 0.03147138, 0.07663586, 0.05368482,\n",
       "          0.05569475, 0.04057002, 0.07336334, 0.05740882, 0.05945821,\n",
       "          0.04910919, 0.07305262, 0.05543918, 0.05847548, 0.04536664,\n",
       "          0.07205131, 0.05935547, 0.0935575 , 0.10140781, 0.10586851,\n",
       "          0.08136497, 0.08651705, 0.07095985, 0.07740577, 0.06551801,\n",
       "          0.07344203, 0.06542253, 0.07519   , 0.06643158, 0.07639003,\n",
       "          0.06619136, 0.07806234, 0.07534028, 0.0854981 , 0.06729829,\n",
       "          0.06325811, 0.06425367, 0.06129355, 0.06479805, 0.06144386,\n",
       "          0.05963085, 0.06128479, 0.06455358, 0.06107634, 0.05808907,\n",
       "          0.06078522, 0.06277517, 0.06002834, 0.05699367, 0.06042452,\n",
       "          0.06288898, 0.05955301, 0.05699581, 0.06001946, 0.06327869,\n",
       "          0.05915197, 0.0568516 , 0.05993103, 0.06336217, 0.05752766,\n",
       "          0.05732127, 0.05984433, 0.06277828, 0.05715821, 0.05776381,\n",
       "          0.05943374, 0.27029094, 0.27031931, 0.09747888, 0.09744914,\n",
       "          0.07867936, 0.07869138, 0.06943285, 0.06929911, 0.0738709 ,\n",
       "          0.07380568, 0.06500022, 0.06395258, 0.08010201, 0.0655333 ,\n",
       "          0.0641526 , 0.06108758, 0.06064811, 0.05729831, 0.05730033,\n",
       "          0.05505382, 0.05181122, 0.05057901, 0.05026547, 0.04528941,\n",
       "          0.05916315, 0.06304099, 0.05014684, 0.33653349, 0.33275313,\n",
       "          0.53130865, 0.5463606 , 0.62175253, 0.62354917, 0.08545362,\n",
       "          0.08044154, 0.06313981, 0.06225088, 0.06646817, 0.06421748,\n",
       "          0.0655333 , 0.0641526 , 0.0655333 , 0.0641526 , 0.12371177,\n",
       "          0.12371177, 0.294891  , 0.06030097, 0.14239972, 0.13525686,\n",
       "          0.20245231, 0.05899308, 0.13143913, 0.13921534, 0.12447356,\n",
       "          0.05905694, 0.11899044, 0.12454258, 0.09709293, 0.05903062,\n",
       "          0.12305448, 0.11470795, 0.08418163, 0.05771547, 0.10603448,\n",
       "          0.10881128, 0.06662478, 0.05620719, 0.05273657, 0.05273657,\n",
       "          0.06145893, 0.05662157, 0.05498572, 0.05498572, 0.06227977,\n",
       "          0.05767625, 0.05657648, 0.05657648, 0.06885137, 0.0592188 ,\n",
       "          0.05833549, 0.05706017, 0.05670959, 0.05673691, 0.05679003,\n",
       "          0.05704604, 0.05742826, 0.05813162, 0.06030391]])],\n",
       " 'predicted_new_row': [array([[ 4.84731972e-01,  5.09012629e-01, -3.58292541e-02,\n",
       "          -2.19050322e-01, -2.47586852e-01,  4.96896229e-01,\n",
       "           4.97452990e-01, -1.04984631e-01, -2.86319762e-01,\n",
       "          -3.10185933e-01,  6.49313311e-02,  6.83359657e-02,\n",
       "           7.98323521e-02,  7.37782016e-02,  7.99442820e-02,\n",
       "           1.17227625e-01,  9.22195189e-02,  1.05909439e-01,\n",
       "           4.92541813e-01,  5.07353721e-01,  6.53291678e-02,\n",
       "           6.50020833e-02,  6.49313311e-02,  6.49313311e-02,\n",
       "          -2.25282176e-02, -6.27848089e-04, -2.14766790e-02,\n",
       "          -3.30322039e-03, -2.64395814e-02, -8.01301427e-04,\n",
       "          -4.36383859e-02, -7.25822025e-03, -4.82271852e-02,\n",
       "          -1.11749801e-02, -8.59159526e-02, -3.59560815e-02,\n",
       "          -1.04333248e-01, -5.36676983e-02, -3.80741335e-02,\n",
       "           7.91809133e-03,  2.86574878e-01,  2.95820912e-01,\n",
       "           3.05345759e-01,  3.04100552e-01, -9.45641216e-02,\n",
       "          -5.92410059e-02, -4.61898546e-02, -2.07265127e-02,\n",
       "          -2.37375356e-02,  9.71188504e-04, -2.25282176e-02,\n",
       "          -6.27848089e-04, -2.25282176e-02, -6.27848089e-04,\n",
       "          -4.21898154e-01, -2.52651004e-01, -4.67014019e-01,\n",
       "          -3.55027808e-01, -5.94656195e-02, -1.88774449e-02,\n",
       "           1.96093890e-03,  8.53452126e-03, -9.53762573e-03,\n",
       "           3.60842828e-02,  2.68933340e-02,  3.60630945e-02,\n",
       "           1.83478076e-02,  5.53658427e-02,  7.43268020e-03,\n",
       "           3.15413947e-02,  2.64406724e-02,  5.76105483e-02,\n",
       "           1.21885720e-02,  3.70283075e-02,  5.11719776e-02,\n",
       "           1.04766975e-01,  2.91466095e-02,  6.64108717e-02,\n",
       "           7.82351188e-02,  1.65015814e-01,  3.93484251e-02,\n",
       "           1.46266444e-01,  6.91024525e-02,  9.45245705e-02,\n",
       "           1.04608817e-01,  1.27692688e-01,  1.40757846e-01,\n",
       "           1.20697542e-01,  1.44244307e-01,  1.30093263e-01,\n",
       "           1.59608139e-01,  1.35453475e-01,  1.57184314e-01,\n",
       "           1.32336628e-01,  1.61006522e-01,  1.39867564e-01,\n",
       "           1.67974991e-01,  1.28206774e-01,  1.53361772e-01,\n",
       "           5.10265705e-02,  5.74272537e-02,  2.66281736e-02,\n",
       "           4.52644755e-02,  5.99587564e-02,  5.98091248e-02,\n",
       "           4.32204994e-02,  5.06329293e-02,  6.02691523e-02,\n",
       "           6.16223397e-02,  5.44238331e-02,  5.57683171e-02,\n",
       "           5.88306421e-02,  6.30213891e-02,  5.89404934e-02,\n",
       "           5.77133209e-02,  5.82802264e-02,  6.45748884e-02,\n",
       "           5.94964228e-02,  6.09765727e-02,  6.00539695e-02,\n",
       "           6.76208041e-02,  6.16868514e-02,  6.25681118e-02,\n",
       "           5.96093345e-02,  7.25135598e-02,  6.57605324e-02,\n",
       "           6.27596392e-02,  5.91236217e-02,  7.12009230e-02,\n",
       "           6.52265295e-02,  6.48471958e-02, -6.73275187e-02,\n",
       "          -6.74256803e-02, -7.09686232e-02, -7.13464799e-02,\n",
       "          -5.27019812e-02, -5.30079313e-02, -4.76378411e-02,\n",
       "          -4.86589959e-02, -5.54690451e-02, -5.51458588e-02,\n",
       "          -5.63253286e-02, -5.38554334e-02,  1.38336382e-01,\n",
       "           3.23403362e-03,  2.07347151e-02, -3.17456252e-04,\n",
       "           2.11824740e-02,  3.37834960e-03,  1.71054701e-02,\n",
       "          -1.76178402e-03,  2.33350926e-02,  3.68410869e-03,\n",
       "           4.32641990e-02, -2.74786192e-02,  6.98170960e-03,\n",
       "          -6.32098706e-02, -2.91783732e-02,  2.59512950e-01,\n",
       "           2.81887640e-01,  4.01411259e-01,  3.93346908e-01,\n",
       "           3.65168532e-01,  3.60150188e-01, -3.60755651e-02,\n",
       "           1.44386413e-02, -1.84748288e-02,  7.77597947e-04,\n",
       "           4.78066036e-04,  1.97819603e-02,  3.23403362e-03,\n",
       "           2.07347151e-02,  3.23403362e-03,  2.07347151e-02,\n",
       "           2.60332189e-01,  2.60332189e-01,  5.26414971e-01,\n",
       "          -6.30240255e-02,  2.43774623e-01,  2.43774623e-01,\n",
       "           5.84032242e-01, -6.43844452e-02,  2.05145778e-01,\n",
       "           2.05145778e-01,  5.96134694e-01, -6.81688657e-02,\n",
       "           1.68408062e-01,  1.68408062e-01,  5.87675078e-01,\n",
       "          -6.77481436e-02,  1.26060680e-01,  1.26060680e-01,\n",
       "           5.68983241e-01, -6.86833131e-02,  5.38520388e-02,\n",
       "           5.38520388e-02,  5.13178147e-01, -6.39906675e-02,\n",
       "           2.15892985e-02,  2.15892985e-02,  4.61540626e-01,\n",
       "          -6.10998083e-02,  7.62932023e-03,  7.62932023e-03,\n",
       "           4.32535936e-01, -6.40057649e-02,  4.09650526e-03,\n",
       "           4.09650526e-03,  4.09881442e-01, -6.44966121e-02,\n",
       "           7.04570820e-02,  7.43054205e-02,  7.83165415e-02,\n",
       "           8.11722927e-02,  8.20753653e-02,  8.44454039e-02,\n",
       "           8.90148764e-02,  8.88972337e-02,  8.33205990e-02]]),\n",
       "  array([[ 4.84731972e-01,  5.09012629e-01, -3.58292541e-02,\n",
       "          -2.19050322e-01, -2.47586852e-01,  4.96896229e-01,\n",
       "           4.97452990e-01, -1.04984631e-01, -2.86319762e-01,\n",
       "          -3.10185933e-01,  6.49313311e-02,  6.83359657e-02,\n",
       "           7.98323521e-02,  7.37782016e-02,  7.99442820e-02,\n",
       "           1.17227625e-01,  9.22195189e-02,  1.05909439e-01,\n",
       "           4.92541813e-01,  5.07353721e-01,  6.53291678e-02,\n",
       "           6.50020833e-02,  6.49313311e-02,  6.49313311e-02,\n",
       "          -2.25282176e-02, -6.27848089e-04, -2.14766790e-02,\n",
       "          -3.30322039e-03, -2.64395814e-02, -8.01301427e-04,\n",
       "          -4.36383859e-02, -7.25822025e-03, -4.82271852e-02,\n",
       "          -1.11749801e-02, -8.59159526e-02, -3.59560815e-02,\n",
       "          -1.04333248e-01, -5.36676983e-02, -3.80741335e-02,\n",
       "           7.91809133e-03,  2.86574878e-01,  2.95820912e-01,\n",
       "           3.05345759e-01,  3.04100552e-01, -9.45641216e-02,\n",
       "          -5.92410059e-02, -4.61898546e-02, -2.07265127e-02,\n",
       "          -2.37375356e-02,  9.71188504e-04, -2.25282176e-02,\n",
       "          -6.27848089e-04, -2.25282176e-02, -6.27848089e-04,\n",
       "          -4.21898154e-01, -2.52651004e-01, -4.67014019e-01,\n",
       "          -3.55027808e-01, -5.94656195e-02, -1.88774449e-02,\n",
       "           1.96093890e-03,  8.53452126e-03, -9.53762573e-03,\n",
       "           3.60842828e-02,  2.68933340e-02,  3.60630945e-02,\n",
       "           1.83478076e-02,  5.53658427e-02,  7.43268020e-03,\n",
       "           3.15413947e-02,  2.64406724e-02,  5.76105483e-02,\n",
       "           1.21885720e-02,  3.70283075e-02,  5.11719776e-02,\n",
       "           1.04766975e-01,  2.91466095e-02,  6.64108717e-02,\n",
       "           7.82351188e-02,  1.65015814e-01,  3.93484251e-02,\n",
       "           1.46266444e-01,  6.91024525e-02,  9.45245705e-02,\n",
       "           1.04608817e-01,  1.27692688e-01,  1.40757846e-01,\n",
       "           1.20697542e-01,  1.44244307e-01,  1.30093263e-01,\n",
       "           1.59608139e-01,  1.35453475e-01,  1.57184314e-01,\n",
       "           1.32336628e-01,  1.61006522e-01,  1.39867564e-01,\n",
       "           1.67974991e-01,  1.28206774e-01,  1.53361772e-01,\n",
       "           5.10265705e-02,  5.74272537e-02,  2.66281736e-02,\n",
       "           4.52644755e-02,  5.99587564e-02,  5.98091248e-02,\n",
       "           4.32204994e-02,  5.06329293e-02,  6.02691523e-02,\n",
       "           6.16223397e-02,  5.44238331e-02,  5.57683171e-02,\n",
       "           5.88306421e-02,  6.30213891e-02,  5.89404934e-02,\n",
       "           5.77133209e-02,  5.82802264e-02,  6.45748884e-02,\n",
       "           5.94964228e-02,  6.09765727e-02,  6.00539695e-02,\n",
       "           6.76208041e-02,  6.16868514e-02,  6.25681118e-02,\n",
       "           5.96093345e-02,  7.25135598e-02,  6.57605324e-02,\n",
       "           6.27596392e-02,  5.91236217e-02,  7.12009230e-02,\n",
       "           6.52265295e-02,  6.48471958e-02, -6.73275187e-02,\n",
       "          -6.74256803e-02, -7.09686232e-02, -7.13464799e-02,\n",
       "          -5.27019812e-02, -5.30079313e-02, -4.76378411e-02,\n",
       "          -4.86589959e-02, -5.54690451e-02, -5.51458588e-02,\n",
       "          -5.63253286e-02, -5.38554334e-02,  1.38336382e-01,\n",
       "           3.23403362e-03,  2.07347151e-02, -3.17456252e-04,\n",
       "           2.11824740e-02,  3.37834960e-03,  1.71054701e-02,\n",
       "          -1.76178402e-03,  2.33350926e-02,  3.68410869e-03,\n",
       "           4.32641990e-02, -2.74786192e-02,  6.98170960e-03,\n",
       "          -6.32098706e-02, -2.91783732e-02,  2.59512950e-01,\n",
       "           2.81887640e-01,  4.01411259e-01,  3.93346908e-01,\n",
       "           3.65168532e-01,  3.60150188e-01, -3.60755651e-02,\n",
       "           1.44386413e-02, -1.84748288e-02,  7.77597947e-04,\n",
       "           4.78066036e-04,  1.97819603e-02,  3.23403362e-03,\n",
       "           2.07347151e-02,  3.23403362e-03,  2.07347151e-02,\n",
       "           2.60332189e-01,  2.60332189e-01,  5.26414971e-01,\n",
       "          -6.30240255e-02,  2.43774623e-01,  2.43774623e-01,\n",
       "           5.84032242e-01, -6.43844452e-02,  2.05145778e-01,\n",
       "           2.05145778e-01,  5.96134694e-01, -6.81688657e-02,\n",
       "           1.68408062e-01,  1.68408062e-01,  5.87675078e-01,\n",
       "          -6.77481436e-02,  1.26060680e-01,  1.26060680e-01,\n",
       "           5.68983241e-01, -6.86833131e-02,  5.38520388e-02,\n",
       "           5.38520388e-02,  5.13178147e-01, -6.39906675e-02,\n",
       "           2.15892985e-02,  2.15892985e-02,  4.61540626e-01,\n",
       "          -6.10998083e-02,  7.62932023e-03,  7.62932023e-03,\n",
       "           4.32535936e-01, -6.40057649e-02,  4.09650526e-03,\n",
       "           4.09650526e-03,  4.09881442e-01, -6.44966121e-02,\n",
       "           7.04570820e-02,  7.43054205e-02,  7.83165415e-02,\n",
       "           8.11722927e-02,  8.20753653e-02,  8.44454039e-02,\n",
       "           8.90148764e-02,  8.88972337e-02,  8.33205990e-02]]),\n",
       "  array([[0.07877045, 0.08218286, 0.06718982, 0.15502963, 0.19374395,\n",
       "          0.08008139, 0.08074915, 0.05802422, 0.13676593, 0.18008101,\n",
       "          0.07610111, 0.0760192 , 0.07463274, 0.0727978 , 0.06809539,\n",
       "          0.06920065, 0.07768223, 0.11653909, 0.45271537, 0.54209984,\n",
       "          0.07534584, 0.07629234, 0.07610111, 0.07610111, 0.07394396,\n",
       "          0.07071568, 0.06984322, 0.06915631, 0.06264837, 0.06318015,\n",
       "          0.05836993, 0.05858492, 0.0550521 , 0.05284106, 0.05771997,\n",
       "          0.0559795 , 0.06568033, 0.0660127 , 0.16924076, 0.16914327,\n",
       "          0.49179886, 0.49195644, 0.58234988, 0.58481575, 0.08698097,\n",
       "          0.08283256, 0.06484569, 0.06447636, 0.07577384, 0.07140279,\n",
       "          0.07394396, 0.07071568, 0.07394396, 0.07071568, 0.49048161,\n",
       "          0.49040291, 0.48293902, 0.47947257, 0.07540362, 0.11932461,\n",
       "          0.07571178, 0.06781786, 0.06005402, 0.05650137, 0.07498287,\n",
       "          0.05204953, 0.05757285, 0.04434831, 0.07663586, 0.05368482,\n",
       "          0.05569475, 0.0426247 , 0.07336334, 0.05740882, 0.05945821,\n",
       "          0.04910919, 0.07305262, 0.05543918, 0.05847548, 0.04536664,\n",
       "          0.07205131, 0.05935547, 0.0935575 , 0.10140781, 0.10586851,\n",
       "          0.08136497, 0.08651705, 0.07095985, 0.07740577, 0.06551801,\n",
       "          0.07344203, 0.06542253, 0.07519   , 0.06643158, 0.07639003,\n",
       "          0.06619136, 0.07806234, 0.07534028, 0.0854981 , 0.06729829,\n",
       "          0.06325811, 0.06425367, 0.06129355, 0.06479805, 0.06144386,\n",
       "          0.05963085, 0.06128479, 0.06455358, 0.06107634, 0.05808907,\n",
       "          0.06078522, 0.06277517, 0.06002834, 0.05699367, 0.06042452,\n",
       "          0.06288898, 0.05955301, 0.05699581, 0.06001946, 0.06327869,\n",
       "          0.05915197, 0.0568516 , 0.05993103, 0.06336217, 0.05752766,\n",
       "          0.05732127, 0.05984433, 0.06277828, 0.05715821, 0.05776381,\n",
       "          0.05943374, 0.27029094, 0.27031931, 0.09747888, 0.09744914,\n",
       "          0.07867936, 0.07869138, 0.06943285, 0.06929911, 0.0738709 ,\n",
       "          0.07380568, 0.06500022, 0.06395258, 0.08010201, 0.0655333 ,\n",
       "          0.0641526 , 0.06108758, 0.06064811, 0.05729831, 0.05730033,\n",
       "          0.05505382, 0.05181122, 0.05057901, 0.05026547, 0.04858413,\n",
       "          0.04326003, 0.04858716, 0.05014684, 0.33653349, 0.33275313,\n",
       "          0.53130865, 0.5463606 , 0.62175253, 0.62354917, 0.08545362,\n",
       "          0.08044154, 0.06313981, 0.06225088, 0.06646817, 0.06421748,\n",
       "          0.0655333 , 0.0641526 , 0.0655333 , 0.0641526 , 0.12371177,\n",
       "          0.12371177, 0.294891  , 0.06030097, 0.04718301, 0.04718301,\n",
       "          0.20245231, 0.05899308, 0.04123268, 0.04123268, 0.12447356,\n",
       "          0.05905694, 0.04030236, 0.04030236, 0.09709293, 0.05903062,\n",
       "          0.04330153, 0.04330153, 0.08418163, 0.05771547, 0.04914723,\n",
       "          0.04914723, 0.06662478, 0.05620719, 0.05273657, 0.05273657,\n",
       "          0.06145893, 0.05662157, 0.05498572, 0.05498572, 0.06227977,\n",
       "          0.05767625, 0.05657648, 0.05657648, 0.06885137, 0.0592188 ,\n",
       "          0.05833549, 0.05706017, 0.05670959, 0.05673691, 0.05679003,\n",
       "          0.05704604, 0.05742826, 0.05813162, 0.06030391]])],\n",
       " 'actual_runtimes': [2.232654094696045, 6.422925233840942, 14.526034116744995],\n",
       " 'sampled_indices': [{16, 17, 18, 19, 21, 82, 84, 104, 143},\n",
       "  {16, 17, 18, 19, 21, 36, 44, 54, 55, 82, 84, 104, 143},\n",
       "  {10,\n",
       "   11,\n",
       "   14,\n",
       "   15,\n",
       "   16,\n",
       "   17,\n",
       "   18,\n",
       "   19,\n",
       "   21,\n",
       "   22,\n",
       "   23,\n",
       "   36,\n",
       "   44,\n",
       "   54,\n",
       "   55,\n",
       "   67,\n",
       "   71,\n",
       "   82,\n",
       "   83,\n",
       "   84,\n",
       "   86,\n",
       "   93,\n",
       "   95,\n",
       "   97,\n",
       "   104,\n",
       "   108,\n",
       "   112,\n",
       "   116,\n",
       "   120,\n",
       "   143,\n",
       "   154,\n",
       "   155,\n",
       "   156,\n",
       "   178,\n",
       "   179,\n",
       "   180,\n",
       "   182,\n",
       "   183,\n",
       "   184,\n",
       "   186,\n",
       "   187,\n",
       "   188,\n",
       "   190,\n",
       "   191,\n",
       "   194,\n",
       "   195}],\n",
       " 'models': [<oboe.ensemble.Ensemble at 0x163eaabe0>,\n",
       "  <oboe.ensemble.Ensemble at 0x163eaabe0>,\n",
       "  <oboe.ensemble.Ensemble at 0x163eaabe0>]}"
      ]
     },
     "execution_count": 22,
     "metadata": {},
     "output_type": "execute_result"
    }
   ],
   "source": [
    "method = 'Oboe'\n",
    "problem_type = 'classification'\n",
    "\n",
    "m = AutoLearner(p_type='classification', runtime_limit=30, method=method, verbose=False)\n",
    "m.fit(x_train, y_train)"
   ]
  },
  {
   "cell_type": "code",
   "execution_count": 23,
   "id": "61d709a0",
   "metadata": {},
   "outputs": [
    {
     "data": {
      "text/plain": [
       "0.9473684210526315"
      ]
     },
     "execution_count": 23,
     "metadata": {},
     "output_type": "execute_result"
    }
   ],
   "source": [
    "#Let's check out our test set accuracy\n",
    "(m.predict(x_test) == y_test).mean()"
   ]
  },
  {
   "cell_type": "markdown",
   "id": "03e3ee86",
   "metadata": {},
   "source": [
    "Wow! Already got a sizeable bump in accuracy from using AutoML tools."
   ]
  },
  {
   "cell_type": "code",
   "execution_count": 24,
   "id": "eeb9fe01",
   "metadata": {},
   "outputs": [
    {
     "data": {
      "text/plain": [
       "{'ensemble method': 'select at most 5 pipelines with smallest cv error',\n",
       " 'base learners': {'GBT': [{'learning_rate': 0.05,\n",
       "    'max_depth': 3,\n",
       "    'max_features': 'log2'},\n",
       "   {'learning_rate': 0.1, 'max_depth': 3, 'max_features': 'log2'}],\n",
       "  'RF': [{'min_samples_split': 64, 'criterion': 'gini'}],\n",
       "  'Logit': [{'C': 2, 'solver': 'liblinear', 'penalty': 'l2'}],\n",
       "  'ExtraTrees': [{'min_samples_split': 0.1, 'criterion': 'gini'}]}}"
      ]
     },
     "execution_count": 24,
     "metadata": {},
     "output_type": "execute_result"
    }
   ],
   "source": [
    "# get names of the selected machine learning models\n",
    "m.get_models()"
   ]
  },
  {
   "cell_type": "markdown",
   "id": "031feb35",
   "metadata": {},
   "source": [
    "So far, we haven't played around with all the different settings OBOE gives us. Let's check out what we can change:"
   ]
  },
  {
   "cell_type": "code",
   "execution_count": 25,
   "id": "e0c53a19",
   "metadata": {},
   "outputs": [],
   "source": [
    "AutoLearner?"
   ]
  },
  {
   "cell_type": "markdown",
   "id": "5920aa61",
   "metadata": {},
   "source": [
    "We can start by setting some experiment limits (this is important because generally our quality of solution is going to improve with more computation time)."
   ]
  },
  {
   "cell_type": "code",
   "execution_count": 26,
   "id": "3f6ec10b",
   "metadata": {},
   "outputs": [],
   "source": [
    "#experimental settings\n",
    "VERBOSE = False #whether to print out information indicating current fitting progress\n",
    "N_CORES = 1 #number of cores\n",
    "RUNTIME_BUDGET = 30"
   ]
  },
  {
   "cell_type": "markdown",
   "id": "571775b7",
   "metadata": {},
   "source": [
    "We can even limit the types of models we want to consider (this is great for applications where we might need an interpretable model!)."
   ]
  },
  {
   "cell_type": "code",
   "execution_count": 27,
   "id": "25764208",
   "metadata": {},
   "outputs": [],
   "source": [
    "#optional: limit the types of algorithms\n",
    "s = ['AB', 'ExtraTrees', 'GNB', 'KNN', 'RF', 'DT']"
   ]
  },
  {
   "cell_type": "markdown",
   "id": "14f9d1b0",
   "metadata": {},
   "source": [
    "We can also decide whether or not we want to build an ensemble solution (for this demo. we'll do an ensemble)"
   ]
  },
  {
   "cell_type": "code",
   "execution_count": 28,
   "id": "655d8ae1",
   "metadata": {},
   "outputs": [],
   "source": [
    "#autolearner arguments\n",
    "autolearner_kwargs = {\n",
    "    'p_type': 'classification',\n",
    "    'method': method,\n",
    "    'runtime_limit': RUNTIME_BUDGET,\n",
    "    'verbose': VERBOSE,\n",
    "    'selection_method': 'ED',\n",
    "    'algorithms': s,\n",
    "    'stacking_alg': 'greedy',\n",
    "    'n_cores': N_CORES,\n",
    "    'build_ensemble': True,\n",
    "}"
   ]
  },
  {
   "cell_type": "code",
   "execution_count": 29,
   "id": "d2e6b939",
   "metadata": {},
   "outputs": [
    {
     "name": "stdout",
     "output_type": "stream",
     "text": [
      "It took  27.175869941711426  seconds to train our AutoML model!\n"
     ]
    }
   ],
   "source": [
    "m = AutoLearner(**autolearner_kwargs)\n",
    "\n",
    "start = time.time()\n",
    "m.fit(x_train, y_train)\n",
    "print('It took ',time.time() - start,' seconds to train our AutoML model!')"
   ]
  },
  {
   "cell_type": "code",
   "execution_count": 30,
   "id": "42b65209",
   "metadata": {},
   "outputs": [
    {
     "data": {
      "text/plain": [
       "0.956140350877193"
      ]
     },
     "execution_count": 30,
     "metadata": {},
     "output_type": "execute_result"
    }
   ],
   "source": [
    "#Let's check out our test set accuracy\n",
    "(m.predict(x_test) == y_test).mean()"
   ]
  },
  {
   "cell_type": "markdown",
   "id": "369f10f5",
   "metadata": {},
   "source": [
    "Our accuracy took a bit of a hit, but remember we've restricted the kinds of models we're considering!"
   ]
  },
  {
   "cell_type": "code",
   "execution_count": 31,
   "id": "f2d3c514",
   "metadata": {},
   "outputs": [
    {
     "data": {
      "text/plain": [
       "{'ensemble method': 'select at most 5 pipelines with smallest cv error',\n",
       " 'base learners': {'AB': [{'n_estimators': 100, 'learning_rate': 1.5},\n",
       "   {'n_estimators': 50, 'learning_rate': 1},\n",
       "   {'n_estimators': 100, 'learning_rate': 1}],\n",
       "  'ExtraTrees': [{'min_samples_split': 0.01, 'criterion': 'gini'},\n",
       "   {'min_samples_split': 16, 'criterion': 'gini'}]}}"
      ]
     },
     "execution_count": 31,
     "metadata": {},
     "output_type": "execute_result"
    }
   ],
   "source": [
    "# get names of the selected machine learning models\n",
    "m.get_models()"
   ]
  },
  {
   "cell_type": "markdown",
   "id": "2c2aa2b2",
   "metadata": {},
   "source": [
    "## <font color='#B31B1B'> Tensor OBOE </font>\n",
    "So far we've only see OBOE pick a model and its hyperparameters, but there's an extension to the model called <a href='https://people.ece.cornell.edu/cy/_papers/tensor_oboe.pdf'> TensorOBOE </a> that can pick the pre-processing pipeline too. Programatically the code is nearly identical, we just need to change our method."
   ]
  },
  {
   "cell_type": "code",
   "execution_count": 32,
   "id": "42bd770d",
   "metadata": {},
   "outputs": [],
   "source": [
    "method = 'tensoroboe'  # Now'TensorOboe'"
   ]
  },
  {
   "cell_type": "code",
   "execution_count": 33,
   "id": "9e6f90c4",
   "metadata": {
    "scrolled": true
   },
   "outputs": [
    {
     "name": "stdout",
     "output_type": "stream",
     "text": [
      "rank for EM-Tucker imputation: (20, 4, 2, 2, 8, 20)\n",
      "shape of the error tensor: (551, 4, 2, 2, 8, 183)\n",
      "Loading latent factors from storage ...\n",
      "Loading saved runtime predictors ...\n",
      "\n",
      "Shape of training dataset: 455 data points, 30 features\n",
      "Splitting training set into training and validation ..\n",
      "Predicting pipeline running time ..\n",
      "runtime limit of initial round: 32.0 seconds\n",
      "fitting and kfold_fit_validating the best-on-average pipeline\n",
      "Pipeline fitting completed.\n",
      "Fitted an ensemble with size 1\n",
      "having a capped running time of 32 seconds\n",
      "Fitted an ensemble with size 1\n",
      "Fitted an ensemble with size 1\n",
      "Fitted an ensemble with size 1\n",
      "Fitted an ensemble with size 1\n",
      "Fitted an ensemble with size 1\n",
      "Doubling process started ...\n",
      "Fitting with ranks=(20, 4, 2, 2, 8, 18), t=32.0\n",
      "\n",
      "Single round runtime target: 32.0\n",
      "Fitting AutoLearner with maximum runtime 32.0 seconds\n",
      "Selecting an initial set of models to evaluate ...\n",
      "greedy_initialization\n",
      "[0.5 0.5 0.5 0.5 0.5 0.5 0.5 0.5]\n",
      "Sampling 8 entries of new row...\n",
      "having a capped running time of 8 seconds\n",
      "having a capped running time of 8 seconds\n",
      "having a capped running time of 8 seconds\n",
      "having a capped running time of 8 seconds\n",
      "having a capped running time of 8 seconds\n",
      "having a capped running time of 8 seconds\n",
      "having a capped running time of 8 seconds\n",
      "having a capped running time of 8 seconds\n",
      "pool fitting completed\n",
      "<oboe.pipeline.PipelineObject object at 0x1640682b0>\n",
      "<oboe.pipeline.PipelineObject object at 0x1640683a0>\n",
      "<oboe.pipeline.PipelineObject object at 0x164068310>\n",
      "<oboe.pipeline.PipelineObject object at 0x164068370>\n",
      "<oboe.pipeline.PipelineObject object at 0x1640682e0>\n",
      "length of sampled indices: 8\n",
      "[8541, 19479] candidate learners need to be k-fold fitted\n",
      "Fitting 2 pipelines predicted to be the best ...\n",
      "having a capped running time of 23 seconds\n",
      "having a capped running time of 23 seconds\n",
      "Number of candidate learners in the ensemble: 8\n",
      "\n",
      "Fitting ensemble of maximum size 8...\n",
      "Fitting a candidate learners not fitted before ..\n",
      "Pipeline fitting completed.\n",
      "Fitting a candidate learners not fitted before ..\n",
      "Pipeline fitting completed.\n",
      "Fitting a candidate learners not fitted before ..\n",
      "Pipeline fitting completed.\n",
      "Fitting a candidate learners not fitted before ..\n",
      "Pipeline fitting completed.\n",
      "Fitting a candidate learners not fitted before ..\n",
      "Pipeline fitting completed.\n",
      "Fitting a candidate learners not fitted before ..\n",
      "Pipeline fitting completed.\n",
      "Fitting a candidate learners not fitted before ..\n",
      "Pipeline fitting completed.\n",
      "Fitting a candidate learners not fitted before ..\n",
      "Pipeline fitting completed.\n",
      "cv errors: [0.03402127 0.03732154 0.03987338 0.04153864 0.04159752 0.08898988\n",
      " 0.0542357  0.06397766]\n",
      "Fitted an ensemble with size 5\n",
      "\n",
      "AutoLearner fitting complete.\n",
      "\n",
      "Got a new ensemble in the round with runtime target 32.0 seconds\n",
      "having a capped running time of 20 seconds\n",
      "cv errors: [0.03402127 0.03732154 0.03987338 0.04153864 0.04159752 0.08898988\n",
      " 0.0542357  0.06397766]\n",
      "Fitted an ensemble with size 5\n",
      "cv errors: [0.03402127 0.03732154 0.03987338 0.04153864 0.04159752 0.08898988\n",
      " 0.0542357  0.06397766]\n",
      "Fitted an ensemble with size 5\n",
      "cv errors: [0.03402127 0.03732154 0.03987338 0.04153864 0.04159752 0.08898988\n",
      " 0.0542357  0.06397766]\n",
      "Fitted an ensemble with size 5\n",
      "cv errors: [0.03402127 0.03732154 0.03987338 0.04153864 0.04159752 0.08898988\n",
      " 0.0542357  0.06397766]\n",
      "Fitted an ensemble with size 5\n",
      "cv errors: [0.03402127 0.03732154 0.03987338 0.04153864 0.04159752 0.08898988\n",
      " 0.0542357  0.06397766]\n",
      "Fitted an ensemble with size 5\n",
      "new approximate rank for the error tensor: (20, 4, 2, 2, 8, 19)\n"
     ]
    },
    {
     "data": {
      "text/plain": [
       "{'ranks': [(20, 4, 2, 2, 8, 18)],\n",
       " 'runtime_limits': [32.0],\n",
       " 'validation_loss': [0.5, 0.0029411764705882305, 0.0],\n",
       " 'filled_new_row': [array([[nan, nan, nan, ..., nan, nan, nan]])],\n",
       " 'predicted_new_row': [array([[-0.01471546, -0.00767647,  0.0423596 , ..., -0.01764392,\n",
       "          -0.01993165, -0.01932104]])],\n",
       " 'actual_runtimes': [10.237134218215942],\n",
       " 'sampled_indices': [{8541,\n",
       "   11711,\n",
       "   12255,\n",
       "   12256,\n",
       "   12257,\n",
       "   12258,\n",
       "   12259,\n",
       "   12260,\n",
       "   12271,\n",
       "   19479}],\n",
       " 'models': [<oboe.ensemble.Ensemble at 0x163d3f6d0>]}"
      ]
     },
     "execution_count": 33,
     "metadata": {},
     "output_type": "execute_result"
    }
   ],
   "source": [
    "# We can again just use it straight out of the box without checking out the hyperparameters\n",
    "m = AutoLearner(p_type='classification', runtime_limit=50, method=method, verbose=True)\n",
    "m.fit(x_train, y_train, categorical=None) # TensorOboe accepts the list of feature types"
   ]
  },
  {
   "cell_type": "code",
   "execution_count": 34,
   "id": "04b74d17",
   "metadata": {},
   "outputs": [
    {
     "data": {
      "text/plain": [
       "{'ensemble method': 'select at most 5 pipelines with smallest cv error',\n",
       " 'base learners': [{'imputer': {'algorithm': 'SimpleImputer',\n",
       "    'hyperparameters': {'strategy': 'median'}},\n",
       "   'encoder': {'algorithm': 'OneHotEncoder',\n",
       "    'hyperparameters': {'handle_unknown': 'ignore', 'sparse': 0}},\n",
       "   'standardizer': {'algorithm': 'StandardScaler', 'hyperparameters': {}},\n",
       "   'dim_reducer': {'algorithm': 'SelectKBest', 'hyperparameters': {'k': 22}},\n",
       "   'estimator': {'algorithm': 'ExtraTrees',\n",
       "    'hyperparameters': {'min_samples_split': 1e-05, 'criterion': 'entropy'}}},\n",
       "  {'imputer': {'algorithm': 'SimpleImputer',\n",
       "    'hyperparameters': {'strategy': 'most_frequent'}},\n",
       "   'encoder': {'algorithm': None},\n",
       "   'standardizer': {'algorithm': None},\n",
       "   'dim_reducer': {'algorithm': 'PCA',\n",
       "    'hyperparameters': {'n_components': 15}},\n",
       "   'estimator': {'algorithm': 'ExtraTrees',\n",
       "    'hyperparameters': {'min_samples_split': 1e-05, 'criterion': 'entropy'}}},\n",
       "  {'imputer': {'algorithm': 'SimpleImputer',\n",
       "    'hyperparameters': {'strategy': 'most_frequent'}},\n",
       "   'encoder': {'algorithm': None},\n",
       "   'standardizer': {'algorithm': None},\n",
       "   'dim_reducer': {'algorithm': 'PCA',\n",
       "    'hyperparameters': {'n_components': 15}},\n",
       "   'estimator': {'algorithm': 'ExtraTrees',\n",
       "    'hyperparameters': {'min_samples_split': 0.0001, 'criterion': 'gini'}}},\n",
       "  {'imputer': {'algorithm': 'SimpleImputer',\n",
       "    'hyperparameters': {'strategy': 'most_frequent'}},\n",
       "   'encoder': {'algorithm': None},\n",
       "   'standardizer': {'algorithm': None},\n",
       "   'dim_reducer': {'algorithm': 'PCA',\n",
       "    'hyperparameters': {'n_components': 15}},\n",
       "   'estimator': {'algorithm': 'ExtraTrees',\n",
       "    'hyperparameters': {'min_samples_split': 0.001, 'criterion': 'entropy'}}},\n",
       "  {'imputer': {'algorithm': 'SimpleImputer',\n",
       "    'hyperparameters': {'strategy': 'most_frequent'}},\n",
       "   'encoder': {'algorithm': None},\n",
       "   'standardizer': {'algorithm': None},\n",
       "   'dim_reducer': {'algorithm': 'PCA',\n",
       "    'hyperparameters': {'n_components': 15}},\n",
       "   'estimator': {'algorithm': 'ExtraTrees',\n",
       "    'hyperparameters': {'min_samples_split': 1e-05, 'criterion': 'gini'}}}]}"
      ]
     },
     "execution_count": 34,
     "metadata": {},
     "output_type": "execute_result"
    }
   ],
   "source": [
    "#Note that our output now includes pre-processing!\n",
    "m.get_models()"
   ]
  }
 ],
 "metadata": {
  "kernelspec": {
   "display_name": "Python 3 (ipykernel)",
   "language": "python",
   "name": "python3"
  },
  "language_info": {
   "codemirror_mode": {
    "name": "ipython",
    "version": 3
   },
   "file_extension": ".py",
   "mimetype": "text/x-python",
   "name": "python",
   "nbconvert_exporter": "python",
   "pygments_lexer": "ipython3",
   "version": "3.9.7"
  }
 },
 "nbformat": 4,
 "nbformat_minor": 5
}
