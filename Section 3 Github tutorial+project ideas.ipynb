{
 "cells": [
  {
   "cell_type": "markdown",
   "metadata": {},
   "source": [
    "# Section 3: Github Tutorial and Project Ideas"
   ]
  },
  {
   "cell_type": "markdown",
   "metadata": {},
   "source": [
    "## Github Tutorial"
   ]
  },
  {
   "cell_type": "markdown",
   "metadata": {},
   "source": [
    " ### 1. Install git\n",
    "Git is a free and open source distributed version control system for software development and several other version control tasks. "
   ]
  },
  {
   "cell_type": "markdown",
   "metadata": {},
   "source": [
    "- Installing\n",
    "\n",
    "    Open the Terminal / Command Prompt and type in the following\n",
    "    \n",
    "    If you don't have it installed, it will prompt you to install it.\n",
    "    \n",
    "    If you want an updated version, go to https://git-scm.com/download/mac or https://git-scm.com/download/win"
   ]
  },
  {
   "cell_type": "code",
   "execution_count": null,
   "metadata": {},
   "outputs": [],
   "source": [
    "$ git --version"
   ]
  },
  {
   "cell_type": "markdown",
   "metadata": {},
   "source": [
    "- Set up\n",
    "\n",
    "    We can set our configuration of git in the following way (which allows for easy collaboration):"
   ]
  },
  {
   "cell_type": "code",
   "execution_count": null,
   "metadata": {},
   "outputs": [],
   "source": [
    "$ git config --global user.name \"<your_name_here>\"\n",
    "$ git config --global user.email \"<your_email@email.com>\""
   ]
  },
  {
   "cell_type": "markdown",
   "metadata": {},
   "source": [
    "### 2. Initialize a local repository"
   ]
  },
  {
   "cell_type": "markdown",
   "metadata": {},
   "source": [
    "1. On Terminal / Command Prompt, locate the directory"
   ]
  },
  {
   "cell_type": "code",
   "execution_count": null,
   "metadata": {},
   "outputs": [],
   "source": [
    "$ cd ./Desktop\n",
    "$ mkdir myproject\n",
    "$ cd myproject/"
   ]
  },
  {
   "cell_type": "markdown",
   "metadata": {},
   "source": [
    "2. Initialize a git repo in the root of the folder we just created"
   ]
  },
  {
   "cell_type": "code",
   "execution_count": null,
   "metadata": {},
   "outputs": [],
   "source": [
    "$ git init"
   ]
  },
  {
   "cell_type": "markdown",
   "metadata": {},
   "source": [
    "### 3. Add & commit"
   ]
  },
  {
   "cell_type": "markdown",
   "metadata": {},
   "source": [
    "For each repo, there should be a README.md to give a brief description on the project. After we create a README.md, we can track our git status via"
   ]
  },
  {
   "cell_type": "code",
   "execution_count": null,
   "metadata": {},
   "outputs": [],
   "source": [
    "$ git status"
   ]
  },
  {
   "cell_type": "markdown",
   "metadata": {},
   "source": [
    "We can see that our file is untracked, and hence we can add it and then commit it. We need to make a commit command to tell git “OK, this is a point that I want to you to mark things down so that if I mess up in the future I can return to this state”."
   ]
  },
  {
   "cell_type": "code",
   "execution_count": null,
   "metadata": {},
   "outputs": [],
   "source": [
    "$ git add README.md\n",
    "$ git commit -m \"Initialize repo\""
   ]
  },
  {
   "cell_type": "markdown",
   "metadata": {},
   "source": [
    "-m stands for message. It is required by Git that we should include a git message every time so it could be easy for us to trace back to a time stamp that we sort of know what we are doing."
   ]
  },
  {
   "cell_type": "markdown",
   "metadata": {},
   "source": [
    "![process](https://people.orie.cornell.edu/bdg79/ORIE5270/_images/status.png)"
   ]
  },
  {
   "cell_type": "markdown",
   "metadata": {},
   "source": [
    "### 3. Push & pull\n",
    "In order to backup our repo as well as collaborating with others, we should have a remote repo. After logging into your account on [Github](https://github.com/), we can create a repo in a few clicks."
   ]
  },
  {
   "cell_type": "code",
   "execution_count": null,
   "metadata": {},
   "outputs": [],
   "source": [
    "$ git remote add origin https://github.com/yourUserName/yourRepoName.git\n",
    "$ git push -u origin master"
   ]
  },
  {
   "cell_type": "markdown",
   "metadata": {},
   "source": [
    "It should ask you to provide username and password. Check whether we have successfully done this via"
   ]
  },
  {
   "cell_type": "code",
   "execution_count": null,
   "metadata": {},
   "outputs": [],
   "source": [
    "$ git remote"
   ]
  },
  {
   "cell_type": "markdown",
   "metadata": {},
   "source": [
    "Everytime we want to push something or before working on our local repo, we should git pull to see if there is anything being made to avoid unexpected things. (Important!!)\n"
   ]
  },
  {
   "cell_type": "code",
   "execution_count": null,
   "metadata": {},
   "outputs": [],
   "source": [
    "$ git pull"
   ]
  },
  {
   "cell_type": "markdown",
   "metadata": {},
   "source": [
    "When we pull, we might be switched to a default text editor (because it is similar to commit) and be asked to type a message. We don’t really need to type anything and can leave the text editor. The git pull will proceed without problem. If your default is vim, press :q to leave."
   ]
  },
  {
   "cell_type": "markdown",
   "metadata": {},
   "source": [
    "We can unstage what we add via:"
   ]
  },
  {
   "cell_type": "code",
   "execution_count": null,
   "metadata": {},
   "outputs": [],
   "source": [
    "$ git reset filename"
   ]
  },
  {
   "cell_type": "markdown",
   "metadata": {},
   "source": [
    "We can remove all what we have done and go back to the most recent commit via:"
   ]
  },
  {
   "cell_type": "code",
   "execution_count": null,
   "metadata": {},
   "outputs": [],
   "source": [
    "$ git checkout -f"
   ]
  },
  {
   "cell_type": "markdown",
   "metadata": {},
   "source": [
    "### 4. Fork & pull request"
   ]
  },
  {
   "cell_type": "markdown",
   "metadata": {},
   "source": [
    "This will be used for your project submission. https://github.com/ORIE4741/ProjectsFall2019. (Every group only needs 1 person to do this)\n",
    "\n",
    "The following steps can be done on Github webpage\n",
    "1. Creating a fork\n",
    "\n",
    "2. Add the link to your fork repository: create a file with your project link inside and commit the new file.\n",
    "\n",
    "3. Create a pull request from the fork in the ProjectsFall2019 repo.\n",
    "\n",
    "If you've forked a repository and added your repo link in a new file, you can create a pull request to ask us to accept your changes."
   ]
  },
  {
   "cell_type": "markdown",
   "metadata": {},
   "source": [
    "### 5. Raise an issue\n",
    "You can submit comments on the proposal by opening an issue on the group's github repo (do not write grades inside)\n",
    "\n",
    "You may read the [tutorial](https://www.atlassian.com/git/tutorials/learn-git-with-bitbucket-cloud) to get more knowledge of Git. "
   ]
  },
  {
   "cell_type": "markdown",
   "metadata": {},
   "source": [
    "### 6. Use the GUI"
   ]
  },
  {
   "cell_type": "markdown",
   "metadata": {},
   "source": [
    "After installing Git, we can also use git on the graphical user interface (GUI). There are a lot of GUI git clients, e.g. [SmartGit](https://www.syntevo.com/smartgit/), [GitKraken](https://www.gitkraken.com/), [Github Desktop](https://desktop.github.com/)"
   ]
  },
  {
   "cell_type": "markdown",
   "metadata": {},
   "source": [
    "## Project Ideas\n",
    "\n",
    "### Possible data sets sources:\n",
    "\n",
    "[Kaggle data sets](https://people.orie.cornell.edu/bdg79/ORIE5270/_images/status.png)\n",
    "\n",
    "[Resource Watch](https://resourcewatch.org/)\n",
    "\n",
    "[Data Science for Social Good](http://www.dssgfellowship.org//projects/)\n",
    "\n",
    "Heckathon datasets and other datasets listed on the [course website](https://people.orie.cornell.edu/mru8/orie4741/projects.html)\n"
   ]
  }
 ],
 "metadata": {
  "kernelspec": {
   "display_name": "Julia 1.1.1",
   "language": "julia",
   "name": "julia-1.1"
  },
  "language_info": {
   "file_extension": ".jl",
   "mimetype": "application/julia",
   "name": "julia",
   "version": "1.1.1"
  }
 },
 "nbformat": 4,
 "nbformat_minor": 2
}
