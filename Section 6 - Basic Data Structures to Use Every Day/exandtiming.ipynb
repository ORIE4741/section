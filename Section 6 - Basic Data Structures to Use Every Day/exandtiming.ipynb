{
  "nbformat": 4,
  "nbformat_minor": 0,
  "metadata": {
    "colab": {
      "name": "demo.ipynb",
      "provenance": [],
      "collapsed_sections": []
    },
    "kernelspec": {
      "name": "python3",
      "display_name": "Python 3"
    },
    "language_info": {
      "name": "python"
    }
  },
  "cells": [
    {
      "cell_type": "code",
      "metadata": {
        "id": "0OCgLA6pWR9u"
      },
      "source": [
        "import random\n",
        "import numpy as np"
      ],
      "execution_count": 48,
      "outputs": []
    },
    {
      "cell_type": "markdown",
      "metadata": {
        "id": "ue1X16kQjUhM"
      },
      "source": [
        "# Shuffling"
      ]
    },
    {
      "cell_type": "code",
      "metadata": {
        "id": "Nl-pzdkPg5T5"
      },
      "source": [
        "def fs_shuffle(arr: np.array) -> np.array:\n",
        "  \"\"\"Produce an unbiased permutation in O(n) time\"\"\"\n",
        "  for idx1 in range(arr.shape[0]): \n",
        "    idx2 = random.randint(arr.shape[0])\n",
        "    arr[idx1], arr[idx2] = arr[idx2], arr[idx1]\n",
        "  return arr"
      ],
      "execution_count": 49,
      "outputs": []
    },
    {
      "cell_type": "markdown",
      "metadata": {
        "id": "KYw-EyJwW7CV"
      },
      "source": [
        "# Stacks\n",
        "\n",
        "1.   Linear data structure\n",
        "2.   First in first out or first in last out propoerty\n",
        "3. 'Push' item to top of stack O(1)\n",
        "4. 'Pop' item from top of stack O(1)\n",
        "5. View 'top' item in a stack O(1)\n",
        "\n"
      ]
    },
    {
      "cell_type": "markdown",
      "metadata": {
        "id": "csYa7ybxg5qv"
      },
      "source": [
        "# Heaps of heaps\n",
        "https://bradfieldcs.com/algos/trees/priority-queues-with-binary-heaps/\n",
        "\n",
        "\n",
        "\n",
        "1.   Complete tree-based binary data structure\n",
        "2.   Allows us to add items in order of priority in O(lg n) \n",
        "3. O(1) time for common tree building ops (insert, find_max, delete_max)\n",
        "\n"
      ]
    },
    {
      "cell_type": "markdown",
      "metadata": {
        "id": "eW6RNuQRWh3K"
      },
      "source": [
        "# Sorting\n",
        "Visualizations and pseudocode - https://visualgo.net/en/sorting\n",
        "\n",
        "Commit to memory - https://www.interviewcake.com/sorting-algorithm-cheat-sheet\n",
        "\n"
      ]
    },
    {
      "cell_type": "markdown",
      "metadata": {
        "id": "RN6X8UV2fKJN"
      },
      "source": [
        "$$\n",
        "\\begin{array}{lcccc}\n",
        "\\text { Expand all } & \\text { worst } & \\text { best } & \\text { average } & \\text { space } \\\\\n",
        "\\hline \\text { Selection Sort } & O\\left(n^{2}\\right) & O\\left(n^{2}\\right) & O\\left(n^{2}\\right) & O(1) \\\\\n",
        "\\hline \\text { Insertion Sort } & O\\left(n^{2}\\right) & O(n) & O\\left(n^{2}\\right) & O(1) \\\\\n",
        "\\hline \\text { Merge Sort } & O(n \\lg n) & O(n \\lg n) & O(n \\lg n) & O(n) \\\\\n",
        "\\hline \\text { Quicksort } & O\\left(n^{2}\\right) & O(n \\lg n) & O(n \\lg n) & O(\\lg n) \\\\\n",
        "\\hline \\text { Heapsort } & O(n \\lg n) & O(n) & O(n \\lg n) & O(1) \\\\\n",
        "\\hline \\text { Counting Sort } & O(n) & O(n) & O(n) & O(n) \\\\\n",
        "\\hline \\text { Radix Sort } & O(n) & O(n) & O(n) & O(n)\n",
        "\\end{array}\n",
        "$$"
      ]
    },
    {
      "cell_type": "code",
      "metadata": {
        "id": "P1coMv5Ze5J9"
      },
      "source": [
        "def almost_shuffle(arr: np.array) -> np.array:\n",
        "  \"\"\"Produce a very biased permutation in O(n) time\"\"\"\n",
        "  for idx1 in range(arr.shape[0]): \n",
        "    if random.randint(0, 10) <= 2:\n",
        "      idx2 = random.randint(0, arr.shape[0]-1)\n",
        "      arr[idx1], arr[idx2] = arr[idx2], arr[idx1]\n",
        "  return arr\n",
        "\n",
        "def generate_near_sorted(n: int) -> np.array:\n",
        "  \"\"\"Generate a nearly sorted array\"\"\"\n",
        "  arr = np.array(range(0, n))\n",
        "  return almost_shuffle(arr)\n",
        "\n",
        "def generate_very_random(n: int) -> np.array: \n",
        "  \"\"\"Generate a random array with duplicates\"\"\"\n",
        "  return np.random.randint(1, n, size=(1, n))[0]"
      ],
      "execution_count": null,
      "outputs": []
    },
    {
      "cell_type": "code",
      "metadata": {
        "colab": {
          "base_uri": "https://localhost:8080/"
        },
        "id": "tKphiMCUaAHp",
        "outputId": "b4472fa5-ff59-4154-f65e-3946994b8505"
      },
      "source": [
        "print(\"Almost sorted\")\n",
        "print(generate_near_sorted(20))\n",
        "print(\"Random permutation\")\n",
        "print(generate_very_random(20))"
      ],
      "execution_count": 50,
      "outputs": [
        {
          "output_type": "stream",
          "name": "stdout",
          "text": [
            "Almost sorted\n",
            "[ 0  4 11  3  7  5  6  1  8  9 10 14 12 13  2 15 16 19 18 17]\n",
            "Random permutation\n",
            "[17  8  2  1  5 13 13 12 10  2  7 17 18  9 15  4 19 12 15 18]\n"
          ]
        }
      ]
    },
    {
      "cell_type": "code",
      "metadata": {
        "id": "EIlB5ymbe5Mo"
      },
      "source": [
        "def selection_sort(x):\n",
        "  \"\"\"Slow and simple - *an excerpt from the [Python Data Science Handbook](http://shop.oreilly.com/product/0636920034919.do) by Jake VanderPlas; the content is available [on GitHub](https://github.com/jakevdp/PythonDataScienceHandbook).\"\"\"\n",
        "  for i in range(len(x)):\n",
        "      swap = i + np.argmin(x[i:])\n",
        "      (x[i], x[swap]) = (x[swap], x[i])\n",
        "  return x\n",
        "\n",
        "\n",
        "# quicksort - np.sort\n",
        "\n",
        "# generally - stable \n",
        "#     counting sort\n",
        "#     merge sort\n",
        "#     insertion sort\n",
        "\n",
        "# merge sort\n"
      ],
      "execution_count": null,
      "outputs": []
    },
    {
      "cell_type": "code",
      "metadata": {
        "colab": {
          "base_uri": "https://localhost:8080/"
        },
        "id": "IIv9Wykvf6Lv",
        "outputId": "f0ab0e96-09d9-43f4-e47b-ffcd15fd2509"
      },
      "source": [
        "print('Nearly sorted examples with selection sort')\n",
        "%timeit ts = generate_near_sorted(2000); selection_sort(ts)\n",
        "print('Nearly sorted examples with quicksort')\n",
        "%timeit ts = generate_near_sorted(2000); np.sort(ts)\n",
        "print('Nearly sorted examples with merge sort')\n",
        "%timeit ts = generate_near_sorted(2000); np.sort(ts, kind='mergesort')"
      ],
      "execution_count": 51,
      "outputs": [
        {
          "output_type": "stream",
          "name": "stdout",
          "text": [
            "Nearly sorted examples with selection sort\n",
            "100 loops, best of 5: 13.1 ms per loop\n",
            "Nearly sorted examples with quicksort\n",
            "100 loops, best of 5: 4.33 ms per loop\n",
            "Nearly sorted examples with merge sort\n",
            "100 loops, best of 5: 4.3 ms per loop\n"
          ]
        }
      ]
    },
    {
      "cell_type": "code",
      "metadata": {
        "colab": {
          "base_uri": "https://localhost:8080/"
        },
        "id": "_Bb0RYeee5PW",
        "outputId": "d2fef5bc-bc4f-463b-efd0-0e801c603450"
      },
      "source": [
        "print('Random examples with selection sort')\n",
        "%timeit ts = generate_very_random(2000); np.sort(ts, kind='selection')\n",
        "print('Random examples with quicksort')\n",
        "%timeit ts = generate_very_random(2000); np.sort(ts)\n",
        "print('Random examples with merge sort')\n",
        "%timeit ts = generate_very_random(2000); np.sort(ts, kind='mergesort')"
      ],
      "execution_count": 53,
      "outputs": [
        {
          "output_type": "stream",
          "name": "stdout",
          "text": [
            "Random examples with selection sort\n",
            "The slowest run took 42.80 times longer than the fastest. This could mean that an intermediate result is being cached.\n",
            "10000 loops, best of 5: 131 µs per loop\n",
            "Random examples with quicksort\n",
            "The slowest run took 6.06 times longer than the fastest. This could mean that an intermediate result is being cached.\n",
            "10000 loops, best of 5: 134 µs per loop\n",
            "Random examples with merge sort\n",
            "10000 loops, best of 5: 132 µs per loop\n"
          ]
        }
      ]
    },
    {
      "cell_type": "markdown",
      "metadata": {
        "id": "26oXnO8NWiCJ"
      },
      "source": [
        "# Trees\n",
        "\n",
        "Fitting optimal binary decision trees on consistent data is NP-Complete. We tend to use a greedy heuristic. \n",
        "\n",
        "Trees are primarily learned one of two ways: \n",
        "\n",
        "\n",
        "*   Best-first\n",
        "*   Depth-first\n",
        "\n",
        "\n",
        "Although both will eventually converge, the amount of computational work done can vary drastically depending on stopping criteria, etc. They also rely on different data structures to make splits.\n"
      ]
    },
    {
      "cell_type": "markdown",
      "metadata": {
        "id": "CMH2c-wjZXQA"
      },
      "source": [
        "## Algorithm - best first tree builder\n",
        "* Initialize heap\n",
        "\n",
        "* Choose feature\n",
        "\n",
        "  * Sort column\n",
        "    * Is the feature constant? - add to a list\n",
        "\n",
        "    * Find all gaps in the sorted list where the label swaps \n",
        "\n",
        "    * Evaluate what the best split is"
      ]
    },
    {
      "cell_type": "markdown",
      "metadata": {
        "id": "-_xoVba4ZXYx"
      },
      "source": [
        "## Stack Useage\n",
        "\n",
        "\n",
        "Depth first\n"
      ]
    },
    {
      "cell_type": "markdown",
      "metadata": {
        "id": "UFZEPnq2ZXc9"
      },
      "source": [
        "## Heap Usage\n",
        "\n",
        "\n",
        "Best first"
      ]
    },
    {
      "cell_type": "code",
      "metadata": {
        "id": "gFLr6UCYY-xO"
      },
      "source": [
        "# Next, we go through this and try to find the relevant data structures and build calls. \n",
        "https://github.com/scikit-learn/scikit-learn/blob/844b4be24d20fc42cc13b957374c718956a0db39/sklearn/tree/_tree.pyx"
      ],
      "execution_count": null,
      "outputs": []
    },
    {
      "cell_type": "code",
      "metadata": {
        "id": "UifZDrJ-Xfk5"
      },
      "source": [
        ""
      ],
      "execution_count": null,
      "outputs": []
    }
  ]
}